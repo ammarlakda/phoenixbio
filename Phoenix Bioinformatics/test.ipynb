{
 "cells": [
  {
   "cell_type": "code",
   "execution_count": 8,
   "metadata": {},
   "outputs": [],
   "source": [
    "from split_article import split_article\n",
    "from PmcidToText import *\n",
    "from runner import get_similar_articles\n",
    "from ammar import retrieve_docs_and_clean\n",
    "from flask import Flask, request, jsonify\n",
    "from flask_cors import CORS\n",
    "import re\n",
    "import string\n",
    "import numpy as np\n",
    "import pandas as pd\n",
    "from sklearn.feature_extraction.text import TfidfVectorizer\n"
   ]
  },
  {
   "cell_type": "code",
   "execution_count": 9,
   "metadata": {},
   "outputs": [
    {
     "name": "stdout",
     "output_type": "stream",
     "text": [
      "PMC8867171\n",
      "<Response [200]>\n",
      "https://www.ncbi.nlm.nih.gov//pmc/articles/PMC8867171/pdf/fpls-13-836519.pdf\n"
     ]
    }
   ],
   "source": [
    "IdScrape(\"PMC8867171\")"
   ]
  },
  {
   "cell_type": "code",
   "execution_count": 14,
   "metadata": {},
   "outputs": [
    {
     "name": "stdout",
     "output_type": "stream",
     "text": [
      "\n",
      "This article discusses the role of a phyB-interacting splicing factor, swellmap 2 (SMP2), in the regulation of seedling photomorphogenesis in Arabidopsis. It is revealed that SMP2 physically interacts with phyB and colocalizes with it in photobodies after light exposure. Genetic analyses show that SMP2 negatively regulates phyB signaling to promote hypocotyl elongation in the light. It is also found that SMP2 reduces the abundance of a functional form of reveille 8 (RVE8a) by determining the 3SS of an intron, which inhibits RVE8-mediated activation of clock genes containing evening elements. Thus, this article unveils a phyB-interacting splicing factor that negatively regulates photomorphogenesis.\n",
      "\n",
      "The major core spliceosome complex is composed of five uridine-rich small nuclear ribonucleoproteins (snRNPs), including U1, U2, U4, U5, and U6. Constitutive splicing (CS) involves the mandatory inclusion of exons and exclusion of introns in mRNA. Alternative splicing (AS) events involve the selective inclusion of introns or exons from pre-mRNA into mature mRNA and different mRNA isoforms from a single gene will be produced. Genome-wide analyses have revealed that a large scale of AS profiles changed in response to light in Arabidopsis thaliana. Numerous studies have focused on understanding the molecular mechanism by which light regulates these AS patterns. It is reported that light-triggered nuclear AS is regulated by a chloroplast retrograde signal, transcriptional elongation rate modulates AS decisions, and photosynthesized sugars coordinate AS responses to light throughout the whole plant. Phytochromes are the best studied photoreceptors involved in the regulation of red light-mediated AS. Two splicing factors, RRC1 and SFPs, have been identified as being able to directly interact with phyB in Arabidopsis. These two factors can form a complex and coordinate pre-mRNA splicing of a subset of light- and clock-associated genes to promote photomorphogenesis. Recently, another splicing factor, SWELLMAP2 (SMP2), was identified that can physically interact with phyB. SMP2 genetically acts downstream of phyB and promotes alternative 3' splice site (A3SS) of key clock regulator RVE8 to negatively regulate seedling photomorphogenesis in Arabidopsis.\n",
      "\n",
      "The Pearley Gateway YFPSMP2 construct was transformed into Agrobacterium tumefaciens GV3101 by the freeze-thaw method and introduced into Col0 via the oral dip method. Yeast two-hybrid assays in the LexA system were performed, followed by coIP assay, immunoblot analysis, confocal microscopy, RNA isolation and quantitative real-time PCR analysis. Results showed that SMp2 physically interacted with PhyB in vitro and in vivo, and negatively regulated seedling photomorphogenesis.\n",
      "\n",
      "SMP2 physically interacts with PhyB and genetically acts downstream of PhyB to regulate hypocotyl elongation in red light. SMP2 also regulates alternative splicing of the circadian clock gene RVE8, which can affect the expression of evening-phased genes. Additionally, SMP2-mediated hypocotyl elongation partially depends on PIF4.\n",
      "\n",
      "This study investigated the role of SMP2 in promoting hypocotyl elongation in response to light and its interaction with phyb. Results showed that SMP2 decreased the abundance of a functional RVE8A isoform likely by regulating the 3' splice site determination, resulting in a decrease in evening-phased gene expression and a subsequent promotion of PIF4 expression to tune seedling photomorphogenesis. Overexpression of PIF4 in SMP2 partially restored the short hypocotyls of the SMP2 mutant in red light. Additionally, PIF5 also exhibited decreased peak expression in SMP2, suggesting it may play a role in SMP2-mediated regulation of photomorphogenesis. These results demonstrate that SMP2 is involved in regulating seedling photomorphogenesis through its interaction with phyb and other clock regulators.\n",
      "\n",
      "This study investigated the role of SMP2 in photomorphogenesis, and how it is regulated by light. Results showed that PPHY4LIN, a splicing regulator, is stabilized by red light and affects SMP2 expression level. Phytochromes, components of light-sensing pathways, may regulate subnuclear localization of SMP2 and modulate its function in alternative pre-mRNA splicing of certain light- and clock-associated genes. Data availability statement and author contributions are also included. Further research is needed to further investigate the impacts of light on SMP2's protein stability, as well as its interactions with phytochromes and its effect on splice site selection.\n",
      "\n",
      "This paper looks at the role of photoreceptors and early signaling steps in plant development and how they influence alternative splicing. It examines the different components of phytochrome signaling networks, such as transcriptional elongation, nuclear localization, and protein-protein interactions. It also looks at how environmental stresses can affect alternative splicing and how thermomorphogenesis is regulated by phytochrome and its interacting factors. Additionally, it explores how mutations in the light receptor phytochrome B can alter cell elongation and physiological responses throughout Arabidopsis development.\n",
      "\n",
      "The research conducted by Reddy et al, Marquez et al., Reed et al., Riegler et al., Saltzman et al., Seo et al., Shalitkaneh et al., Shen et al., Shi et al., Shih et al., Shikata et al., Shomron et al., Wahl et al., Wang et al., Wu et al., Xin et al. studied the complexity of the negative feedback loop within the Arabidopsis circadian clock. They found that light regulated alternative splicing outcomes via the TOR Kinase pathway, and that phosphorylation and degradation of the negative regulator phytochrome-interacting factor (PIF1) depends upon its direct physical interactions with photoactivated phytochromes. Additionally, multiple feedback loops of the circadian clock were found to provide rhythmic robustness across environmental conditions, while egg cell-specific promoter-controlled CRISPR/Cas9 was found to efficiently generate homozygous mutants for multiple target genes in Arabidopsis in a single generation. Finally, they concluded that there is coordinated regulation of pre-mRNA splicing by the SFPS/RRC1 complex to promote photomorphogenesis.\n",
      "\n"
     ]
    }
   ],
   "source": [
    "id = 'PMC8867171'\n",
    "path = r\"C:\\Users\\ammar\\OneDrive\\Desktop\\phoenixbio\\Phoenix Bioinformatics\\PDFs/\"+id+\".pdf\"\n",
    "#path = r\"C:\\Users\\ammar\\OneDrive\\Desktop\\phoenixbio\\Phoenix Bioinformatics\\PDFs\"+id+r\".pdf\"\n",
    "text = convert_pdf_to_txt(path)\n",
    "print(split_article(text))"
   ]
  },
  {
   "cell_type": "code",
   "execution_count": 11,
   "metadata": {},
   "outputs": [],
   "source": [
    "message = \"phyb\"\n",
    "docs,main_df = retrieve_docs_and_clean()\n",
    "# Create Term-Document Matrix with TF-IDF weighting\n"
   ]
  },
  {
   "cell_type": "code",
   "execution_count": 12,
   "metadata": {},
   "outputs": [],
   "source": [
    "vectorizer = TfidfVectorizer()\n",
    "X = vectorizer.fit_transform(docs)\n",
    "# Create a DataFrame\n",
    "df = pd.DataFrame(X.T.toarray(), index=vectorizer.get_feature_names_out())\n"
   ]
  },
  {
   "cell_type": "code",
   "execution_count": 13,
   "metadata": {},
   "outputs": [
    {
     "name": "stdout",
     "output_type": "stream",
     "text": [
      "query: phyb\n",
      "The following are articles with the highest cosine similarity values: \n"
     ]
    },
    {
     "ename": "KeyError",
     "evalue": "19",
     "output_type": "error",
     "traceback": [
      "\u001b[1;31m---------------------------------------------------------------------------\u001b[0m",
      "\u001b[1;31mKeyError\u001b[0m                                  Traceback (most recent call last)",
      "File \u001b[1;32m~\\AppData\\Roaming\\Python\\Python311\\site-packages\\pandas\\core\\indexes\\base.py:3802\u001b[0m, in \u001b[0;36mIndex.get_loc\u001b[1;34m(self, key, method, tolerance)\u001b[0m\n\u001b[0;32m   3801\u001b[0m \u001b[39mtry\u001b[39;00m:\n\u001b[1;32m-> 3802\u001b[0m     \u001b[39mreturn\u001b[39;00m \u001b[39mself\u001b[39;49m\u001b[39m.\u001b[39;49m_engine\u001b[39m.\u001b[39;49mget_loc(casted_key)\n\u001b[0;32m   3803\u001b[0m \u001b[39mexcept\u001b[39;00m \u001b[39mKeyError\u001b[39;00m \u001b[39mas\u001b[39;00m err:\n",
      "File \u001b[1;32m~\\AppData\\Roaming\\Python\\Python311\\site-packages\\pandas\\_libs\\index.pyx:138\u001b[0m, in \u001b[0;36mpandas._libs.index.IndexEngine.get_loc\u001b[1;34m()\u001b[0m\n",
      "File \u001b[1;32m~\\AppData\\Roaming\\Python\\Python311\\site-packages\\pandas\\_libs\\index.pyx:165\u001b[0m, in \u001b[0;36mpandas._libs.index.IndexEngine.get_loc\u001b[1;34m()\u001b[0m\n",
      "File \u001b[1;32mpandas\\_libs\\hashtable_class_helper.pxi:5745\u001b[0m, in \u001b[0;36mpandas._libs.hashtable.PyObjectHashTable.get_item\u001b[1;34m()\u001b[0m\n",
      "File \u001b[1;32mpandas\\_libs\\hashtable_class_helper.pxi:5753\u001b[0m, in \u001b[0;36mpandas._libs.hashtable.PyObjectHashTable.get_item\u001b[1;34m()\u001b[0m\n",
      "\u001b[1;31mKeyError\u001b[0m: 19",
      "\nThe above exception was the direct cause of the following exception:\n",
      "\u001b[1;31mKeyError\u001b[0m                                  Traceback (most recent call last)",
      "Cell \u001b[1;32mIn[13], line 1\u001b[0m\n\u001b[1;32m----> 1\u001b[0m pmcid\u001b[39m=\u001b[39mget_similar_articles(message,df,main_df)\n\u001b[0;32m      2\u001b[0m IdScrape(pmcid)\n",
      "File \u001b[1;32mc:\\Users\\ammar\\OneDrive\\Desktop\\phoenixbio\\Phoenix Bioinformatics\\runner.py:48\u001b[0m, in \u001b[0;36mget_similar_articles\u001b[1;34m(q, df, main_df)\u001b[0m\n\u001b[0;32m     45\u001b[0m \u001b[39mfor\u001b[39;00m k, v \u001b[39min\u001b[39;00m sim_sorted:\n\u001b[0;32m     46\u001b[0m   \u001b[39mif\u001b[39;00m v \u001b[39m!=\u001b[39m \u001b[39m0.0\u001b[39m:\n\u001b[0;32m     47\u001b[0m     \u001b[39m#print(\"Similarity Value:\", v)\u001b[39;00m\n\u001b[1;32m---> 48\u001b[0m     \u001b[39mreturn\u001b[39;00m main_df[k]\n",
      "File \u001b[1;32m~\\AppData\\Roaming\\Python\\Python311\\site-packages\\pandas\\core\\frame.py:3807\u001b[0m, in \u001b[0;36mDataFrame.__getitem__\u001b[1;34m(self, key)\u001b[0m\n\u001b[0;32m   3805\u001b[0m \u001b[39mif\u001b[39;00m \u001b[39mself\u001b[39m\u001b[39m.\u001b[39mcolumns\u001b[39m.\u001b[39mnlevels \u001b[39m>\u001b[39m \u001b[39m1\u001b[39m:\n\u001b[0;32m   3806\u001b[0m     \u001b[39mreturn\u001b[39;00m \u001b[39mself\u001b[39m\u001b[39m.\u001b[39m_getitem_multilevel(key)\n\u001b[1;32m-> 3807\u001b[0m indexer \u001b[39m=\u001b[39m \u001b[39mself\u001b[39;49m\u001b[39m.\u001b[39;49mcolumns\u001b[39m.\u001b[39;49mget_loc(key)\n\u001b[0;32m   3808\u001b[0m \u001b[39mif\u001b[39;00m is_integer(indexer):\n\u001b[0;32m   3809\u001b[0m     indexer \u001b[39m=\u001b[39m [indexer]\n",
      "File \u001b[1;32m~\\AppData\\Roaming\\Python\\Python311\\site-packages\\pandas\\core\\indexes\\base.py:3804\u001b[0m, in \u001b[0;36mIndex.get_loc\u001b[1;34m(self, key, method, tolerance)\u001b[0m\n\u001b[0;32m   3802\u001b[0m     \u001b[39mreturn\u001b[39;00m \u001b[39mself\u001b[39m\u001b[39m.\u001b[39m_engine\u001b[39m.\u001b[39mget_loc(casted_key)\n\u001b[0;32m   3803\u001b[0m \u001b[39mexcept\u001b[39;00m \u001b[39mKeyError\u001b[39;00m \u001b[39mas\u001b[39;00m err:\n\u001b[1;32m-> 3804\u001b[0m     \u001b[39mraise\u001b[39;00m \u001b[39mKeyError\u001b[39;00m(key) \u001b[39mfrom\u001b[39;00m \u001b[39merr\u001b[39;00m\n\u001b[0;32m   3805\u001b[0m \u001b[39mexcept\u001b[39;00m \u001b[39mTypeError\u001b[39;00m:\n\u001b[0;32m   3806\u001b[0m     \u001b[39m# If we have a listlike key, _check_indexing_error will raise\u001b[39;00m\n\u001b[0;32m   3807\u001b[0m     \u001b[39m#  InvalidIndexError. Otherwise we fall through and re-raise\u001b[39;00m\n\u001b[0;32m   3808\u001b[0m     \u001b[39m#  the TypeError.\u001b[39;00m\n\u001b[0;32m   3809\u001b[0m     \u001b[39mself\u001b[39m\u001b[39m.\u001b[39m_check_indexing_error(key)\n",
      "\u001b[1;31mKeyError\u001b[0m: 19"
     ]
    }
   ],
   "source": [
    "pmcid=get_similar_articles(message,df,main_df)\n",
    "IdScrape(pmcid)\n"
   ]
  },
  {
   "cell_type": "code",
   "execution_count": null,
   "metadata": {},
   "outputs": [],
   "source": [
    "path = r\"C:\\Users\\ammar\\OneDrive\\Desktop\\phoenixbio\\Phoenix Bioinformatics\\PDFs/\"+pmcid+\".pdf\"\n",
    "text = convert_pdf_to_txt(path)\n",
    "\n",
    "modified_message = split_article(text)"
   ]
  }
 ],
 "metadata": {
  "kernelspec": {
   "display_name": "Python 3",
   "language": "python",
   "name": "python3"
  },
  "language_info": {
   "codemirror_mode": {
    "name": "ipython",
    "version": 3
   },
   "file_extension": ".py",
   "mimetype": "text/x-python",
   "name": "python",
   "nbconvert_exporter": "python",
   "pygments_lexer": "ipython3",
   "version": "3.11.2"
  },
  "orig_nbformat": 4
 },
 "nbformat": 4,
 "nbformat_minor": 2
}
