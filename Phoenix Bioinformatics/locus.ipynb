{
 "cells": [
  {
   "cell_type": "code",
   "execution_count": 2,
   "metadata": {},
   "outputs": [],
   "source": [
    "import pandas as pd"
   ]
  },
  {
   "cell_type": "markdown",
   "metadata": {},
   "source": [
    "Using provided code to read from csv file"
   ]
  },
  {
   "cell_type": "code",
   "execution_count": 3,
   "metadata": {},
   "outputs": [],
   "source": [
    "with open(\"gene_aliases_20210930.csv\", 'r') as temp_f:\n",
    "    # get No of columns in each line\n",
    "    col_count = [ len(l.split(\",\")) for l in temp_f.readlines() ]\n",
    "\n",
    "### Generate column names  (names will be 0, 1, 2, ..., maximum columns - 1)\n",
    "column_names = [i for i in range(0, max(col_count))]\n",
    "\n",
    "### Read csv\n",
    "df = pd.read_csv(\"gene_aliases_20210930.csv\", header=None, delimiter=\",\", names=column_names)"
   ]
  },
  {
   "cell_type": "code",
   "execution_count": 5,
   "metadata": {},
   "outputs": [
    {
     "data": {
      "text/html": [
       "<div>\n",
       "<style scoped>\n",
       "    .dataframe tbody tr th:only-of-type {\n",
       "        vertical-align: middle;\n",
       "    }\n",
       "\n",
       "    .dataframe tbody tr th {\n",
       "        vertical-align: top;\n",
       "    }\n",
       "\n",
       "    .dataframe thead th {\n",
       "        text-align: right;\n",
       "    }\n",
       "</style>\n",
       "<table border=\"1\" class=\"dataframe\">\n",
       "  <thead>\n",
       "    <tr style=\"text-align: right;\">\n",
       "      <th></th>\n",
       "      <th>0</th>\n",
       "      <th>1</th>\n",
       "      <th>2</th>\n",
       "      <th>3</th>\n",
       "      <th>4</th>\n",
       "      <th>5</th>\n",
       "      <th>6</th>\n",
       "      <th>7</th>\n",
       "      <th>8</th>\n",
       "    </tr>\n",
       "  </thead>\n",
       "  <tbody>\n",
       "    <tr>\n",
       "      <th>0</th>\n",
       "      <td>locus_name</td>\n",
       "      <td>NaN</td>\n",
       "      <td>symbol</td>\n",
       "      <td>NaN</td>\n",
       "      <td>NaN</td>\n",
       "      <td>NaN</td>\n",
       "      <td>NaN</td>\n",
       "      <td>NaN</td>\n",
       "      <td>NaN</td>\n",
       "    </tr>\n",
       "    <tr>\n",
       "      <th>1</th>\n",
       "      <td>18S RRNA</td>\n",
       "      <td>18S RRNA</td>\n",
       "      <td>NaN</td>\n",
       "      <td>NaN</td>\n",
       "      <td>NaN</td>\n",
       "      <td>NaN</td>\n",
       "      <td>NaN</td>\n",
       "      <td>NaN</td>\n",
       "      <td>NaN</td>\n",
       "    </tr>\n",
       "    <tr>\n",
       "      <th>2</th>\n",
       "      <td>25S RRNA</td>\n",
       "      <td>25S RRNA</td>\n",
       "      <td>NaN</td>\n",
       "      <td>NaN</td>\n",
       "      <td>NaN</td>\n",
       "      <td>NaN</td>\n",
       "      <td>NaN</td>\n",
       "      <td>NaN</td>\n",
       "      <td>NaN</td>\n",
       "    </tr>\n",
       "    <tr>\n",
       "      <th>3</th>\n",
       "      <td>5.8S RRNA</td>\n",
       "      <td>5.8S RRNA</td>\n",
       "      <td>NaN</td>\n",
       "      <td>NaN</td>\n",
       "      <td>NaN</td>\n",
       "      <td>NaN</td>\n",
       "      <td>NaN</td>\n",
       "      <td>NaN</td>\n",
       "      <td>NaN</td>\n",
       "    </tr>\n",
       "    <tr>\n",
       "      <th>4</th>\n",
       "      <td>AAN</td>\n",
       "      <td>AAN</td>\n",
       "      <td>NaN</td>\n",
       "      <td>NaN</td>\n",
       "      <td>ANOTHER ANDANTE</td>\n",
       "      <td>NaN</td>\n",
       "      <td>NaN</td>\n",
       "      <td>NaN</td>\n",
       "      <td>NaN</td>\n",
       "    </tr>\n",
       "  </tbody>\n",
       "</table>\n",
       "</div>"
      ],
      "text/plain": [
       "            0          1       2    3                4   5   6   7   8\n",
       "0  locus_name        NaN  symbol  NaN              NaN NaN NaN NaN NaN\n",
       "1    18S RRNA   18S RRNA     NaN  NaN              NaN NaN NaN NaN NaN\n",
       "2    25S RRNA   25S RRNA     NaN  NaN              NaN NaN NaN NaN NaN\n",
       "3   5.8S RRNA  5.8S RRNA     NaN  NaN              NaN NaN NaN NaN NaN\n",
       "4         AAN        AAN     NaN  NaN  ANOTHER ANDANTE NaN NaN NaN NaN"
      ]
     },
     "execution_count": 5,
     "metadata": {},
     "output_type": "execute_result"
    }
   ],
   "source": [
    "df.head()"
   ]
  },
  {
   "cell_type": "code",
   "execution_count": 28,
   "metadata": {},
   "outputs": [
    {
     "name": "stdout",
     "output_type": "stream",
     "text": [
      "0        0\n",
      "1     1046\n",
      "2     9141\n",
      "3    27981\n",
      "4    28851\n",
      "5    28963\n",
      "6    28963\n",
      "7    28963\n",
      "8    28963\n",
      "dtype: int64\n"
     ]
    }
   ],
   "source": [
    "print(pd.isnull(df).sum())"
   ]
  },
  {
   "cell_type": "markdown",
   "metadata": {},
   "source": [
    "Filter out rows with empty cells: "
   ]
  },
  {
   "cell_type": "code",
   "execution_count": 33,
   "metadata": {},
   "outputs": [
    {
     "name": "stdout",
     "output_type": "stream",
     "text": [
      "                                                0          1       2    3  \\\n",
      "0                                      locus_name        NaN  symbol  NaN   \n",
      "1                                        18S RRNA   18S RRNA     NaN  NaN   \n",
      "2                                        25S RRNA   25S RRNA     NaN  NaN   \n",
      "3                                       5.8S RRNA  5.8S RRNA     NaN  NaN   \n",
      "4                                             AAN        AAN     NaN  NaN   \n",
      "...                                           ...        ...     ...  ...   \n",
      "28958                          pub_termannotation        NaN     NaN  NaN   \n",
      "28959       pub_termannotation_save\\npub_termtype        NaN     NaN  NaN   \n",
      "28960                           pub_updatehistory        NaN     NaN  NaN   \n",
      "28961                                     pub_url        NaN     NaN  NaN   \n",
      "28962  pub_urllinking\\npub_urlreference\\npub_user        NaN     NaN  NaN   \n",
      "\n",
      "                     4   5   6   7   8  \n",
      "0                  NaN NaN NaN NaN NaN  \n",
      "1                  NaN NaN NaN NaN NaN  \n",
      "2                  NaN NaN NaN NaN NaN  \n",
      "3                  NaN NaN NaN NaN NaN  \n",
      "4      ANOTHER ANDANTE NaN NaN NaN NaN  \n",
      "...                ...  ..  ..  ..  ..  \n",
      "28958              NaN NaN NaN NaN NaN  \n",
      "28959              NaN NaN NaN NaN NaN  \n",
      "28960              NaN NaN NaN NaN NaN  \n",
      "28961              NaN NaN NaN NaN NaN  \n",
      "28962              NaN NaN NaN NaN NaN  \n",
      "\n",
      "[28963 rows x 9 columns]\n"
     ]
    }
   ],
   "source": [
    "nan_rows = df.loc[df.isna().any(axis=1)]\n",
    "print(nan_rows)"
   ]
  },
  {
   "cell_type": "markdown",
   "metadata": {},
   "source": [
    "Delete rows with any empty cells: "
   ]
  },
  {
   "cell_type": "code",
   "execution_count": 34,
   "metadata": {},
   "outputs": [],
   "source": [
    "df_new = df.drop(nan_rows) "
   ]
  },
  {
   "cell_type": "code",
   "execution_count": 35,
   "metadata": {},
   "outputs": [
    {
     "name": "stdout",
     "output_type": "stream",
     "text": [
      "       0     1    2    3                       4   5   6   7   8\n",
      "9   ACL3  ACL3  NaN  NaN               ACAULIS 3 NaN NaN NaN NaN\n",
      "10  ACL4  ACL4  NaN  NaN               ACAULIS 4 NaN NaN NaN NaN\n",
      "11  ADD1  ADD1  NaN  NaN  ARRESTED DEVELOPMENT 1 NaN NaN NaN NaN\n",
      "12  ADD2  ADD2  NaN  NaN  ARRESTED DEVELOPMENT 2 NaN NaN NaN NaN\n",
      "13  ADD3  ADD3  NaN  NaN  ARRESTED DEVELOPMENT 3 NaN NaN NaN NaN\n"
     ]
    }
   ],
   "source": [
    "print(df_new.head())"
   ]
  }
 ],
 "metadata": {
  "kernelspec": {
   "display_name": "Python 3.9.12 ('base')",
   "language": "python",
   "name": "python3"
  },
  "language_info": {
   "codemirror_mode": {
    "name": "ipython",
    "version": 3
   },
   "file_extension": ".py",
   "mimetype": "text/x-python",
   "name": "python",
   "nbconvert_exporter": "python",
   "pygments_lexer": "ipython3",
   "version": "3.9.12"
  },
  "orig_nbformat": 4,
  "vscode": {
   "interpreter": {
    "hash": "cdec36b3ce009a3c34851a12eb9b6c73eae6306fd6680792593ee6082769bc5e"
   }
  }
 },
 "nbformat": 4,
 "nbformat_minor": 2
}
