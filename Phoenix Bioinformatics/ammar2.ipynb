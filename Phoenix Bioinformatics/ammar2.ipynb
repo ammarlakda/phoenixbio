{
 "cells": [
  {
   "cell_type": "code",
   "execution_count": 8,
   "metadata": {},
   "outputs": [],
   "source": [
    "import re\n",
    "import string\n",
    "import numpy as np\n",
    "import pandas as pd"
   ]
  },
  {
   "cell_type": "code",
   "execution_count": 9,
   "metadata": {},
   "outputs": [],
   "source": [
    "df = pd.read_csv(r'C:\\Users/ammar\\OneDrive\\Desktop\\phoenixbio\\Phoenix Bioinformatics\\IF Code\\FinalDatasets\\phyb.csv')"
   ]
  },
  {
   "cell_type": "code",
   "execution_count": 10,
   "metadata": {},
   "outputs": [
    {
     "ename": "AttributeError",
     "evalue": "'str' object has no attribute 'str'",
     "output_type": "error",
     "traceback": [
      "\u001b[1;31m---------------------------------------------------------------------------\u001b[0m",
      "\u001b[1;31mAttributeError\u001b[0m                            Traceback (most recent call last)",
      "Cell \u001b[1;32mIn[10], line 1\u001b[0m\n\u001b[1;32m----> 1\u001b[0m df[\u001b[39m'\u001b[39m\u001b[39mpubmed\u001b[39m\u001b[39m'\u001b[39m][\u001b[39m0\u001b[39m] \u001b[39m=\u001b[39m df[\u001b[39m'\u001b[39;49m\u001b[39mpubmed\u001b[39;49m\u001b[39m'\u001b[39;49m][\u001b[39m0\u001b[39;49m]\u001b[39m.\u001b[39;49mstr\u001b[39m.\u001b[39mreplace(\u001b[39m'\u001b[39m\u001b[39mPUBMED: \u001b[39m\u001b[39m'\u001b[39m,\u001b[39m'\u001b[39m\u001b[39m'\u001b[39m)\u001b[39m.\u001b[39mreplace(\u001b[39m'\u001b[39m\u001b[39m;\u001b[39m\u001b[39m'\u001b[39m, \u001b[39m'\u001b[39m\u001b[39m'\u001b[39m)\n",
      "\u001b[1;31mAttributeError\u001b[0m: 'str' object has no attribute 'str'"
     ]
    }
   ],
   "source": [
    "df['pubmed'][0] = df['pubmed'][0].str.replace('PUBMED: ','').replace(';', '')"
   ]
  },
  {
   "cell_type": "code",
   "execution_count": 4,
   "metadata": {},
   "outputs": [],
   "source": [
    "#for index, row in df.iterrows():\n",
    "#    df.at[index, 'pubmed'] = df.at[index, 'pubmed'].replace('PUBMED: ', '').replace(';', '')"
   ]
  },
  {
   "cell_type": "code",
   "execution_count": 7,
   "metadata": {},
   "outputs": [
    {
     "name": "stdout",
     "output_type": "stream",
     "text": [
      "Growth inhibition and cold-acclimation strategies help plants withstand cold stress, which adversely affects growth and survival. PHYTOCHROME B (phyB) regulates plant growth through perceiving both light and ambient temperature signals. However, the mechanism by which phyB mediates the plant response to cold stress remains elusive. Here, we show that the key transcription factors mediating cold acclimation, C-REPEAT BINDING FACTORs (CBFs), interact with PHYTOCHROME-INTERACTING FACTOR 3 (PIF3) under cold stress, thus attenuating the mutually assured destruction of PIF3-phyB. Cold-stabilized phyB acts downstream of CBFs to positively regulate freezing tolerance by modulating the expression of stress-responsive and growth-related genes. Consistent with this, phyB mutants exhibited a freezing-sensitive phenotype, whereas phyB-overexpression transgenic plants displayed enhanced freezing tolerance. Further analysis showed that the PIF1, PIF4, and PIF5 proteins, all of which negatively regulate plant freezing tolerance, were destabilized by cold stress in a phytochrome-dependent manner. Collectively, our study reveals that CBFs-PIF3-phyB serves as an important regulatory module for modulating plant response to cold stress.\n"
     ]
    }
   ],
   "source": [
    "print(df['abstract'][0])"
   ]
  },
  {
   "cell_type": "code",
   "execution_count": 4,
   "metadata": {},
   "outputs": [
    {
     "data": {
      "text/plain": [
       "0    32311530; \n",
       "1    31514232; \n",
       "2    27789797; \n",
       "3    36497048; \n",
       "4    35222493; \n",
       "Name: pubmed, dtype: object"
      ]
     },
     "execution_count": 4,
     "metadata": {},
     "output_type": "execute_result"
    }
   ],
   "source": [
    "df['pubmed'].head()"
   ]
  }
 ],
 "metadata": {
  "kernelspec": {
   "display_name": "Python 3",
   "language": "python",
   "name": "python3"
  },
  "language_info": {
   "codemirror_mode": {
    "name": "ipython",
    "version": 3
   },
   "file_extension": ".py",
   "mimetype": "text/x-python",
   "name": "python",
   "nbconvert_exporter": "python",
   "pygments_lexer": "ipython3",
   "version": "3.11.2"
  },
  "orig_nbformat": 4
 },
 "nbformat": 4,
 "nbformat_minor": 2
}
