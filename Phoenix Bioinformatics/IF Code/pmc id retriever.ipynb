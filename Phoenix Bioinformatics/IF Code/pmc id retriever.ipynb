{
 "cells": [
  {
   "cell_type": "code",
   "execution_count": 155,
   "metadata": {},
   "outputs": [],
   "source": [
    "#PMC ID RETRIEVER\n",
    "\n",
    "from bs4 import BeautifulSoup\n",
    "import requests\n",
    "import urllib.request, urllib.parse, urllib.error\n",
    "import re\n",
    "import ssl\n",
    "import json\n",
    "import calendar\n",
    "import numpy as np\n",
    "import pandas as pd\n",
    "from tqdm import tqdm\n",
    "import warnings\n",
    "from Bio import Entrez"
   ]
  },
  {
   "cell_type": "code",
   "execution_count": 156,
   "metadata": {},
   "outputs": [],
   "source": [
    "#Function that searchs pmc based on input keyword (query), returns unique IDs\n",
    "def searchCentral(query, num):\n",
    "    Entrez.email = 'your.email@example.com'\n",
    "    handle = Entrez.esearch(db = 'pmc', sort = 'relevance', retmax = num, retmode = 'xml', term = query)\n",
    "    results = Entrez.read(handle)\n",
    "    return results"
   ]
  },
  {
   "cell_type": "code",
   "execution_count": 157,
   "metadata": {},
   "outputs": [],
   "source": [
    "###ONLY NEEDED IF WANT TO PARSE ARTICLE DATA (XML)###\n",
    "\n",
    "#Function that receives unique IDS from search function and returns desired metadata\n",
    "def fetchDetails(id_list):\n",
    "    ids = ','.join(id_list)\n",
    "    Entrez.email = 'your.email@example.com'\n",
    "    handle = Entrez.efetch(db = 'pmc', retmode = 'xml', id = ids)\n",
    "    results = Entrez.read(handle)\n",
    "    return results\n"
   ]
  },
  {
   "cell_type": "code",
   "execution_count": 158,
   "metadata": {},
   "outputs": [],
   "source": [
    "#Retrieves pmc id's and stores as csv file (prep for full article scraper)\n",
    "def retrievePMC(keyword, num):\n",
    "    results = searchCentral(keyword, num) #Querying pmc\n",
    "    id_list = results['IdList'] #List of UIDS\n",
    "\n",
    "    #Check id list\n",
    "    print(id_list)\n",
    "\n",
    "    #make sure list is not empty (pandas will not be happy)\n",
    "    if(id_list == []):\n",
    "        print('ERROR: no IDs found')\n",
    "        return\n",
    "    \n",
    "    #put into pandas df \n",
    "    df = pd.DataFrame(id_list)\n",
    "    df.columns = ['PMCID']\n",
    "    \n",
    "    #Create filename\n",
    "    filename = str(keyword) + '_' + str(num) + 'ids.csv'\n",
    "\n",
    "    #convert to csv\n",
    "    df.to_csv('testIDS/'+filename)"
   ]
  },
  {
   "cell_type": "code",
   "execution_count": 159,
   "metadata": {},
   "outputs": [
    {
     "name": "stdout",
     "output_type": "stream",
     "text": [
      "type q or quit to end list\n",
      "['phyb', 'ate1', 'hap1']\n",
      "['6746701', '5462004', '6925995', '9614508', '9490419', '5712524', '4568247', '8417825', '9590482', '7325275']\n",
      "['6594445', '9398136', '8087773', '7779560', '5059882', '7749041', '6368462', '4916053', '6969214', '8474785']\n",
      "['7443904', '5321030', '4398408', '9491583', '6587669', '9609465', '5821608', '7560692', '7566288', '4750992']\n"
     ]
    }
   ],
   "source": [
    "###Ask for single keyword from user###\n",
    "\n",
    "#keyword = str(input('Please enter the keyword '))\n",
    "#Ask for number of ID's to retrieve\n",
    "#num = int(input('Please enter the number of results '))\n",
    "#retrievePMC(keyword)\n",
    "\n",
    "\n",
    "#OR\n",
    "\n",
    "###Create a List of gene names###\n",
    "list = []\n",
    "print('type q or quit to end list')\n",
    "while(1):\n",
    "    list_keyword = str(input('Please enter the keyword '))\n",
    "    if list_keyword == 'q' or list_keyword == 'quit':\n",
    "        break\n",
    "    list.append(list_keyword)\n",
    "#Ask for number of ID's to retrieve\n",
    "num = int(input('Please enter the NUMBER of results '))\n",
    "\n",
    "print(list)\n",
    "\n",
    "#Retrieve id's for each query\n",
    "\n",
    "for i in range(0, len(list)):\n",
    "    retrievePMC(list[i], num)\n",
    "\n",
    "\n"
   ]
  }
 ],
 "metadata": {
  "kernelspec": {
   "display_name": "Python 3",
   "language": "python",
   "name": "python3"
  },
  "language_info": {
   "codemirror_mode": {
    "name": "ipython",
    "version": 3
   },
   "file_extension": ".py",
   "mimetype": "text/x-python",
   "name": "python",
   "nbconvert_exporter": "python",
   "pygments_lexer": "ipython3",
   "version": "3.10.4"
  },
  "orig_nbformat": 4,
  "vscode": {
   "interpreter": {
    "hash": "8c3d4d9970fc5c09c50d9318a9c7fbf4d0159e4b28833276f5678ee22bded273"
   }
  }
 },
 "nbformat": 4,
 "nbformat_minor": 2
}
