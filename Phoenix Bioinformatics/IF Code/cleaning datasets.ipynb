{
 "cells": [
  {
   "cell_type": "code",
   "execution_count": 7,
   "metadata": {},
   "outputs": [],
   "source": [
    "#Code for Cleaning Pubmed Datasets\n",
    "\n",
    "import pandas as pd\n",
    "import numpy as np"
   ]
  },
  {
   "cell_type": "code",
   "execution_count": 8,
   "metadata": {},
   "outputs": [],
   "source": [
    "#Takes in list of csv file names from webscraper script and drops unneeded data columns\n",
    "def toCsv(list):\n",
    "       \n",
    "        for i in list:\n",
    "                keyword = i\n",
    "\n",
    "                df1 = pd.read_csv(f\"InitialDatasets/{i}.csv\")\n",
    "                \n",
    "                #drops unecessary columns\n",
    "                df1.drop('authors', inplace = True, axis = 1)\n",
    "                df1.drop('ArticleTitle', inplace = True, axis = 1)\n",
    "                df1.drop('volume', inplace = True, axis = 1)\n",
    "                df1.drop('doi_pii_str', inplace = True, axis = 1)\n",
    "                df1.drop('date', inplace = True, axis = 1)\n",
    "\n",
    "                gene_dataset = df1\n",
    "\n",
    "\n",
    "                filename = keyword + '.csv'\n",
    "                #Put cleaned dataset back into csv\n",
    "                gene_dataset.to_csv(\"cleanedDatasets/\"+filename, index=None)\n",
    "\n"
   ]
  },
  {
   "cell_type": "code",
   "execution_count": 9,
   "metadata": {},
   "outputs": [],
   "source": [
    "list = ['add1+gene', 'ate1', 'cat1+gene', 'cul2+gene', 'hap1+gene', 'lhy', 'lig1+gene', 'mago+gene','phyb', 'spi+gene']\n",
    "\n",
    "toCsv(list)"
   ]
  }
 ],
 "metadata": {
  "kernelspec": {
   "display_name": "Python 3",
   "language": "python",
   "name": "python3"
  },
  "language_info": {
   "codemirror_mode": {
    "name": "ipython",
    "version": 3
   },
   "file_extension": ".py",
   "mimetype": "text/x-python",
   "name": "python",
   "nbconvert_exporter": "python",
   "pygments_lexer": "ipython3",
   "version": "3.10.4"
  },
  "orig_nbformat": 4,
  "vscode": {
   "interpreter": {
    "hash": "8c3d4d9970fc5c09c50d9318a9c7fbf4d0159e4b28833276f5678ee22bded273"
   }
  }
 },
 "nbformat": 4,
 "nbformat_minor": 2
}
