{
 "cells": [
  {
   "cell_type": "code",
   "execution_count": 1,
   "metadata": {},
   "outputs": [],
   "source": [
    "import pandas as pd "
   ]
  },
  {
   "cell_type": "code",
   "execution_count": 11,
   "metadata": {},
   "outputs": [
    {
     "name": "stdout",
     "output_type": "stream",
     "text": [
      "0     32111355; \n",
      "1     29554889; \n",
      "2     15936902; \n",
      "3      8009842; \n",
      "4     16887979; \n",
      "         ...    \n",
      "95    10348855; \n",
      "96    19745519; \n",
      "97    15064749; \n",
      "98    22493086; \n",
      "99    17629523; \n",
      "Name: pubmed, Length: 100, dtype: object\n"
     ]
    }
   ],
   "source": [
    "keyword = \"spi+gene\"\n",
    "\n",
    "df = pd.read_csv(\"InitialDatasets/\" + keyword + \".csv\")\n",
    "\n",
    "\n",
    "\n",
    "df2 = df['pubmed']\n",
    "print(df2)\n",
    "\n",
    "df2.to_csv(\"ConvertedID's/\" + keyword + \"IDS\" + \".csv\")\n",
    "\n",
    "\n"
   ]
  }
 ],
 "metadata": {
  "kernelspec": {
   "display_name": "Python 3",
   "language": "python",
   "name": "python3"
  },
  "language_info": {
   "codemirror_mode": {
    "name": "ipython",
    "version": 3
   },
   "file_extension": ".py",
   "mimetype": "text/x-python",
   "name": "python",
   "nbconvert_exporter": "python",
   "pygments_lexer": "ipython3",
   "version": "3.10.4"
  },
  "orig_nbformat": 4
 },
 "nbformat": 4,
 "nbformat_minor": 2
}
