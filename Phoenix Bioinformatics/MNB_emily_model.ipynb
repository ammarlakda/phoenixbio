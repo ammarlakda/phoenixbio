{
 "cells": [
  {
   "cell_type": "code",
   "execution_count": 1,
   "metadata": {},
   "outputs": [
    {
     "name": "stderr",
     "output_type": "stream",
     "text": [
      "[nltk_data] Downloading package stopwords to\n",
      "[nltk_data]     /Users/emilyjiang/nltk_data...\n",
      "[nltk_data]   Package stopwords is already up-to-date!\n",
      "[nltk_data] Downloading package omw-1.4 to\n",
      "[nltk_data]     /Users/emilyjiang/nltk_data...\n",
      "[nltk_data]   Package omw-1.4 is already up-to-date!\n",
      "[nltk_data] Downloading package brown to\n",
      "[nltk_data]     /Users/emilyjiang/nltk_data...\n",
      "[nltk_data]   Package brown is already up-to-date!\n",
      "[nltk_data] Downloading package names to\n",
      "[nltk_data]     /Users/emilyjiang/nltk_data...\n",
      "[nltk_data]   Package names is already up-to-date!\n",
      "[nltk_data] Downloading package wordnet to\n",
      "[nltk_data]     /Users/emilyjiang/nltk_data...\n",
      "[nltk_data]   Package wordnet is already up-to-date!\n",
      "[nltk_data] Downloading package averaged_perceptron_tagger to\n",
      "[nltk_data]     /Users/emilyjiang/nltk_data...\n",
      "[nltk_data]   Package averaged_perceptron_tagger is already up-to-\n",
      "[nltk_data]       date!\n",
      "[nltk_data] Downloading package universal_tagset to\n",
      "[nltk_data]     /Users/emilyjiang/nltk_data...\n",
      "[nltk_data]   Package universal_tagset is already up-to-date!\n"
     ]
    }
   ],
   "source": [
    "# import important modules\n",
    "import numpy as np\n",
    "import pandas as pd\n",
    "# sklearn modules\n",
    "from sklearn.model_selection import train_test_split\n",
    "from sklearn.pipeline import Pipeline\n",
    "from sklearn.naive_bayes import MultinomialNB # classifier \n",
    "from sklearn.metrics import (\n",
    "    accuracy_score,\n",
    "    classification_report, \n",
    ")\n",
    "from sklearn.feature_extraction.text import TfidfVectorizer, CountVectorizer\n",
    "# text preprocessing modules\n",
    "from string import punctuation \n",
    "# text preprocessing modules\n",
    "import nltk\n",
    "from nltk.tokenize import word_tokenize\n",
    "# adding two more downloads based on warnings generated when cleaning text \n",
    "nltk.download('stopwords')\n",
    "nltk.download('omw-1.4')\n",
    "from nltk.corpus import stopwords\n",
    "from nltk.stem import WordNetLemmatizer \n",
    "import re #regular expression\n",
    "# Download dependency\n",
    "for dependency in (\n",
    "    \"brown\",\n",
    "    \"names\",\n",
    "    \"wordnet\",\n",
    "    \"averaged_perceptron_tagger\",\n",
    "    \"universal_tagset\",\n",
    "):\n",
    "    nltk.download(dependency)\n",
    "    \n",
    "import warnings\n",
    "warnings.filterwarnings(\"ignore\")\n",
    "# seeding\n",
    "np.random.seed(123)\n",
    "\n",
    "# import tensorflow and keras for padding \n",
    "import tensorflow as tf \n",
    "\n",
    "import tensorflow.python.keras as k  # this worked for fixing problems with keras/tensorflow\n",
    "# import keras as k\n",
    "\n",
    "from keras_preprocessing.sequence import pad_sequences\n",
    "\n",
    "from keras_preprocessing.text import Tokenizer"
   ]
  },
  {
   "cell_type": "code",
   "execution_count": 2,
   "metadata": {},
   "outputs": [
    {
     "data": {
      "text/html": [
       "<div>\n",
       "<style scoped>\n",
       "    .dataframe tbody tr th:only-of-type {\n",
       "        vertical-align: middle;\n",
       "    }\n",
       "\n",
       "    .dataframe tbody tr th {\n",
       "        vertical-align: top;\n",
       "    }\n",
       "\n",
       "    .dataframe thead th {\n",
       "        text-align: right;\n",
       "    }\n",
       "</style>\n",
       "<table border=\"1\" class=\"dataframe\">\n",
       "  <thead>\n",
       "    <tr style=\"text-align: right;\">\n",
       "      <th></th>\n",
       "      <th>journal_title</th>\n",
       "      <th>pubmed</th>\n",
       "      <th>abstract</th>\n",
       "      <th>Label</th>\n",
       "    </tr>\n",
       "  </thead>\n",
       "  <tbody>\n",
       "    <tr>\n",
       "      <th>0</th>\n",
       "      <td>Cancer science</td>\n",
       "      <td>33211385;</td>\n",
       "      <td>Copy number alterations detected by comparativ...</td>\n",
       "      <td>1.0</td>\n",
       "    </tr>\n",
       "    <tr>\n",
       "      <th>1</th>\n",
       "      <td>Revista iberoamericana de micologia</td>\n",
       "      <td>20974273;</td>\n",
       "      <td>Aspergillus fumigatus is an opportunistic path...</td>\n",
       "      <td>1.0</td>\n",
       "    </tr>\n",
       "    <tr>\n",
       "      <th>2</th>\n",
       "      <td>Journal of experimental botany</td>\n",
       "      <td>17728292;</td>\n",
       "      <td>Catalase and hydrogen peroxide (H(2)O(2)) have...</td>\n",
       "      <td>1.0</td>\n",
       "    </tr>\n",
       "    <tr>\n",
       "      <th>3</th>\n",
       "      <td>Methods in molecular biology (Clifton, N.J.)</td>\n",
       "      <td>35781205;</td>\n",
       "      <td>The availability of exceptionally strong and t...</td>\n",
       "      <td>1.0</td>\n",
       "    </tr>\n",
       "    <tr>\n",
       "      <th>4</th>\n",
       "      <td>PloS one</td>\n",
       "      <td>35639710;</td>\n",
       "      <td>Positive and counter-selectable markers have b...</td>\n",
       "      <td>1.0</td>\n",
       "    </tr>\n",
       "  </tbody>\n",
       "</table>\n",
       "</div>"
      ],
      "text/plain": [
       "                                   journal_title      pubmed  \\\n",
       "0                                Cancer science   33211385;    \n",
       "1           Revista iberoamericana de micologia   20974273;    \n",
       "2                Journal of experimental botany   17728292;    \n",
       "3  Methods in molecular biology (Clifton, N.J.)   35781205;    \n",
       "4                                      PloS one   35639710;    \n",
       "\n",
       "                                            abstract  Label  \n",
       "0  Copy number alterations detected by comparativ...    1.0  \n",
       "1  Aspergillus fumigatus is an opportunistic path...    1.0  \n",
       "2  Catalase and hydrogen peroxide (H(2)O(2)) have...    1.0  \n",
       "3  The availability of exceptionally strong and t...    1.0  \n",
       "4  Positive and counter-selectable markers have b...    1.0  "
      ]
     },
     "execution_count": 2,
     "metadata": {},
     "output_type": "execute_result"
    }
   ],
   "source": [
    "# load data from phyb_400 csv \n",
    "df_original = pd.read_csv(\"/Users/emilyjiang/Desktop/Git/Phoenix Bioinformatics/IF Code/FinalDatasets/cat1.csv\", index_col=0) \n",
    "\n",
    "# print beginning of data to check \n",
    "df_original.head()"
   ]
  },
  {
   "cell_type": "code",
   "execution_count": 3,
   "metadata": {},
   "outputs": [
    {
     "data": {
      "text/plain": [
       "(1000, 4)"
      ]
     },
     "execution_count": 3,
     "metadata": {},
     "output_type": "execute_result"
    }
   ],
   "source": [
    "# checking shape of dataset \n",
    "df_original.shape\n",
    "# dataset has 8 columns, 400 rows "
   ]
  },
  {
   "cell_type": "code",
   "execution_count": 4,
   "metadata": {},
   "outputs": [
    {
     "data": {
      "text/html": [
       "<div>\n",
       "<style scoped>\n",
       "    .dataframe tbody tr th:only-of-type {\n",
       "        vertical-align: middle;\n",
       "    }\n",
       "\n",
       "    .dataframe tbody tr th {\n",
       "        vertical-align: top;\n",
       "    }\n",
       "\n",
       "    .dataframe thead th {\n",
       "        text-align: right;\n",
       "    }\n",
       "</style>\n",
       "<table border=\"1\" class=\"dataframe\">\n",
       "  <thead>\n",
       "    <tr style=\"text-align: right;\">\n",
       "      <th></th>\n",
       "      <th>journal_title</th>\n",
       "      <th>pubmed</th>\n",
       "      <th>abstract</th>\n",
       "      <th>Label</th>\n",
       "    </tr>\n",
       "  </thead>\n",
       "  <tbody>\n",
       "    <tr>\n",
       "      <th>0</th>\n",
       "      <td>Cancer science</td>\n",
       "      <td>33211385;</td>\n",
       "      <td>Copy number alterations detected by comparativ...</td>\n",
       "      <td>1.0</td>\n",
       "    </tr>\n",
       "    <tr>\n",
       "      <th>1</th>\n",
       "      <td>Revista iberoamericana de micologia</td>\n",
       "      <td>20974273;</td>\n",
       "      <td>Aspergillus fumigatus is an opportunistic path...</td>\n",
       "      <td>1.0</td>\n",
       "    </tr>\n",
       "    <tr>\n",
       "      <th>2</th>\n",
       "      <td>Journal of experimental botany</td>\n",
       "      <td>17728292;</td>\n",
       "      <td>Catalase and hydrogen peroxide (H(2)O(2)) have...</td>\n",
       "      <td>1.0</td>\n",
       "    </tr>\n",
       "    <tr>\n",
       "      <th>3</th>\n",
       "      <td>Methods in molecular biology (Clifton, N.J.)</td>\n",
       "      <td>35781205;</td>\n",
       "      <td>The availability of exceptionally strong and t...</td>\n",
       "      <td>1.0</td>\n",
       "    </tr>\n",
       "    <tr>\n",
       "      <th>4</th>\n",
       "      <td>PloS one</td>\n",
       "      <td>35639710;</td>\n",
       "      <td>Positive and counter-selectable markers have b...</td>\n",
       "      <td>1.0</td>\n",
       "    </tr>\n",
       "    <tr>\n",
       "      <th>...</th>\n",
       "      <td>...</td>\n",
       "      <td>...</td>\n",
       "      <td>...</td>\n",
       "      <td>...</td>\n",
       "    </tr>\n",
       "    <tr>\n",
       "      <th>995</th>\n",
       "      <td>Journal of dental research</td>\n",
       "      <td>17652207;</td>\n",
       "      <td>Amelogenesis imperfecta is an inherited disord...</td>\n",
       "      <td>0.0</td>\n",
       "    </tr>\n",
       "    <tr>\n",
       "      <th>996</th>\n",
       "      <td>Autophagy</td>\n",
       "      <td>29261001;</td>\n",
       "      <td>In macroautophagy/autophagy, cargoes are colle...</td>\n",
       "      <td>0.0</td>\n",
       "    </tr>\n",
       "    <tr>\n",
       "      <th>997</th>\n",
       "      <td>Biochimica et biophysica acta. Molecular and c...</td>\n",
       "      <td>30597201;</td>\n",
       "      <td>Protein modification by arginylation regulates...</td>\n",
       "      <td>0.0</td>\n",
       "    </tr>\n",
       "    <tr>\n",
       "      <th>998</th>\n",
       "      <td>Proceedings of the National Academy of Science...</td>\n",
       "      <td>32366662;</td>\n",
       "      <td>The Arg/N-degron pathway targets proteins for ...</td>\n",
       "      <td>0.0</td>\n",
       "    </tr>\n",
       "    <tr>\n",
       "      <th>999</th>\n",
       "      <td>Molecular cell</td>\n",
       "      <td>23499006;</td>\n",
       "      <td>Protein aggregates are a common feature of neu...</td>\n",
       "      <td>0.0</td>\n",
       "    </tr>\n",
       "  </tbody>\n",
       "</table>\n",
       "<p>979 rows × 4 columns</p>\n",
       "</div>"
      ],
      "text/plain": [
       "                                         journal_title      pubmed  \\\n",
       "0                                      Cancer science   33211385;    \n",
       "1                 Revista iberoamericana de micologia   20974273;    \n",
       "2                      Journal of experimental botany   17728292;    \n",
       "3        Methods in molecular biology (Clifton, N.J.)   35781205;    \n",
       "4                                            PloS one   35639710;    \n",
       "..                                                 ...         ...   \n",
       "995                        Journal of dental research   17652207;    \n",
       "996                                         Autophagy   29261001;    \n",
       "997  Biochimica et biophysica acta. Molecular and c...  30597201;    \n",
       "998  Proceedings of the National Academy of Science...  32366662;    \n",
       "999                                    Molecular cell   23499006;    \n",
       "\n",
       "                                              abstract  Label  \n",
       "0    Copy number alterations detected by comparativ...    1.0  \n",
       "1    Aspergillus fumigatus is an opportunistic path...    1.0  \n",
       "2    Catalase and hydrogen peroxide (H(2)O(2)) have...    1.0  \n",
       "3    The availability of exceptionally strong and t...    1.0  \n",
       "4    Positive and counter-selectable markers have b...    1.0  \n",
       "..                                                 ...    ...  \n",
       "995  Amelogenesis imperfecta is an inherited disord...    0.0  \n",
       "996  In macroautophagy/autophagy, cargoes are colle...    0.0  \n",
       "997  Protein modification by arginylation regulates...    0.0  \n",
       "998  The Arg/N-degron pathway targets proteins for ...    0.0  \n",
       "999  Protein aggregates are a common feature of neu...    0.0  \n",
       "\n",
       "[979 rows x 4 columns]"
      ]
     },
     "execution_count": 4,
     "metadata": {},
     "output_type": "execute_result"
    }
   ],
   "source": [
    "# check if  dataset has any missing values\n",
    "df_original.isnull().sum()\n",
    "df_original = df_original.dropna()\n",
    "df_original"
   ]
  },
  {
   "cell_type": "code",
   "execution_count": 5,
   "metadata": {},
   "outputs": [
    {
     "name": "stdout",
     "output_type": "stream",
     "text": [
      "0      Copy number alterations detected by comparativ...\n",
      "1      Aspergillus fumigatus is an opportunistic path...\n",
      "2      Catalase and hydrogen peroxide (H(2)O(2)) have...\n",
      "3      The availability of exceptionally strong and t...\n",
      "4      Positive and counter-selectable markers have b...\n",
      "                             ...                        \n",
      "995    Amelogenesis imperfecta is an inherited disord...\n",
      "996    In macroautophagy/autophagy, cargoes are colle...\n",
      "997    Protein modification by arginylation regulates...\n",
      "998    The Arg/N-degron pathway targets proteins for ...\n",
      "999    Protein aggregates are a common feature of neu...\n",
      "Name: abstract, Length: 979, dtype: object\n"
     ]
    }
   ],
   "source": [
    "# converts to string which is usable\n",
    "df_original['abstract'] = df_original['abstract'].astype(str)\n",
    "print(df_original['abstract'])"
   ]
  },
  {
   "cell_type": "code",
   "execution_count": 6,
   "metadata": {},
   "outputs": [],
   "source": [
    "stop_words =  stopwords.words('english')\n",
    "def text_cleaning(text, remove_stop_words=True, lemmatize_words=True):\n",
    "    # Clean the text, with the option to remove stop_words and to lemmatize word\n",
    "    # Clean the text\n",
    "    text = re.sub(r\"[^A-Za-z0-9]\", \" \", text)\n",
    "    text = re.sub(r\"\\'s\", \" \", text)\n",
    "    text =  re.sub(r'http\\S+',' link ', text)\n",
    "    text = re.sub(r'\\b\\d+(?:\\.\\d+)?\\s+', '', text) # remove numbers\n",
    "        \n",
    "    # Remove punctuation from text\n",
    "    text = ''.join([c for c in text if c not in punctuation])\n",
    "    \n",
    "    # Optionally, remove stop words\n",
    "    if remove_stop_words:\n",
    "        text = text.split()\n",
    "        text = [w for w in text if not w in stop_words]\n",
    "        text = \" \".join(text)\n",
    "    \n",
    "    # Optionally, shorten words to their stems\n",
    "    if lemmatize_words:\n",
    "        text = text.split()\n",
    "        lemmatizer = WordNetLemmatizer() \n",
    "        lemmatized_words = [lemmatizer.lemmatize(word) for word in text]\n",
    "        text = \" \".join(lemmatized_words)\n",
    "    \n",
    "    # Return a list of words\n",
    "    return(text)"
   ]
  },
  {
   "cell_type": "code",
   "execution_count": 7,
   "metadata": {},
   "outputs": [
    {
     "data": {
      "text/html": [
       "<div>\n",
       "<style scoped>\n",
       "    .dataframe tbody tr th:only-of-type {\n",
       "        vertical-align: middle;\n",
       "    }\n",
       "\n",
       "    .dataframe tbody tr th {\n",
       "        vertical-align: top;\n",
       "    }\n",
       "\n",
       "    .dataframe thead th {\n",
       "        text-align: right;\n",
       "    }\n",
       "</style>\n",
       "<table border=\"1\" class=\"dataframe\">\n",
       "  <thead>\n",
       "    <tr style=\"text-align: right;\">\n",
       "      <th></th>\n",
       "      <th>journal_title</th>\n",
       "      <th>pubmed</th>\n",
       "      <th>abstract</th>\n",
       "      <th>Label</th>\n",
       "      <th>cleaned_data</th>\n",
       "      <th>str_len</th>\n",
       "    </tr>\n",
       "  </thead>\n",
       "  <tbody>\n",
       "    <tr>\n",
       "      <th>0</th>\n",
       "      <td>Cancer science</td>\n",
       "      <td>33211385;</td>\n",
       "      <td>Copy number alterations detected by comparativ...</td>\n",
       "      <td>1.0</td>\n",
       "      <td>Copy number alteration detected comparative ge...</td>\n",
       "      <td>1711</td>\n",
       "    </tr>\n",
       "    <tr>\n",
       "      <th>1</th>\n",
       "      <td>Revista iberoamericana de micologia</td>\n",
       "      <td>20974273;</td>\n",
       "      <td>Aspergillus fumigatus is an opportunistic path...</td>\n",
       "      <td>1.0</td>\n",
       "      <td>Aspergillus fumigatus opportunistic pathogen c...</td>\n",
       "      <td>3708</td>\n",
       "    </tr>\n",
       "    <tr>\n",
       "      <th>2</th>\n",
       "      <td>Journal of experimental botany</td>\n",
       "      <td>17728292;</td>\n",
       "      <td>Catalase and hydrogen peroxide (H(2)O(2)) have...</td>\n",
       "      <td>1.0</td>\n",
       "      <td>Catalase hydrogen peroxide H O extensively stu...</td>\n",
       "      <td>1714</td>\n",
       "    </tr>\n",
       "    <tr>\n",
       "      <th>3</th>\n",
       "      <td>Methods in molecular biology (Clifton, N.J.)</td>\n",
       "      <td>35781205;</td>\n",
       "      <td>The availability of exceptionally strong and t...</td>\n",
       "      <td>1.0</td>\n",
       "      <td>The availability exceptionally strong tightly ...</td>\n",
       "      <td>1327</td>\n",
       "    </tr>\n",
       "    <tr>\n",
       "      <th>4</th>\n",
       "      <td>PloS one</td>\n",
       "      <td>35639710;</td>\n",
       "      <td>Positive and counter-selectable markers have b...</td>\n",
       "      <td>1.0</td>\n",
       "      <td>Positive counter selectable marker successfull...</td>\n",
       "      <td>1147</td>\n",
       "    </tr>\n",
       "    <tr>\n",
       "      <th>...</th>\n",
       "      <td>...</td>\n",
       "      <td>...</td>\n",
       "      <td>...</td>\n",
       "      <td>...</td>\n",
       "      <td>...</td>\n",
       "      <td>...</td>\n",
       "    </tr>\n",
       "    <tr>\n",
       "      <th>995</th>\n",
       "      <td>Journal of dental research</td>\n",
       "      <td>17652207;</td>\n",
       "      <td>Amelogenesis imperfecta is an inherited disord...</td>\n",
       "      <td>0.0</td>\n",
       "      <td>Amelogenesis imperfecta inherited disorder aff...</td>\n",
       "      <td>1061</td>\n",
       "    </tr>\n",
       "    <tr>\n",
       "      <th>996</th>\n",
       "      <td>Autophagy</td>\n",
       "      <td>29261001;</td>\n",
       "      <td>In macroautophagy/autophagy, cargoes are colle...</td>\n",
       "      <td>0.0</td>\n",
       "      <td>In macroautophagy autophagy cargo collected sp...</td>\n",
       "      <td>1419</td>\n",
       "    </tr>\n",
       "    <tr>\n",
       "      <th>997</th>\n",
       "      <td>Biochimica et biophysica acta. Molecular and c...</td>\n",
       "      <td>30597201;</td>\n",
       "      <td>Protein modification by arginylation regulates...</td>\n",
       "      <td>0.0</td>\n",
       "      <td>Protein modification arginylation regulates pr...</td>\n",
       "      <td>1713</td>\n",
       "    </tr>\n",
       "    <tr>\n",
       "      <th>998</th>\n",
       "      <td>Proceedings of the National Academy of Science...</td>\n",
       "      <td>32366662;</td>\n",
       "      <td>The Arg/N-degron pathway targets proteins for ...</td>\n",
       "      <td>0.0</td>\n",
       "      <td>The Arg N degron pathway target protein degrad...</td>\n",
       "      <td>1921</td>\n",
       "    </tr>\n",
       "    <tr>\n",
       "      <th>999</th>\n",
       "      <td>Molecular cell</td>\n",
       "      <td>23499006;</td>\n",
       "      <td>Protein aggregates are a common feature of neu...</td>\n",
       "      <td>0.0</td>\n",
       "      <td>Protein aggregate common feature neurodegenera...</td>\n",
       "      <td>1105</td>\n",
       "    </tr>\n",
       "  </tbody>\n",
       "</table>\n",
       "<p>979 rows × 6 columns</p>\n",
       "</div>"
      ],
      "text/plain": [
       "                                         journal_title      pubmed  \\\n",
       "0                                      Cancer science   33211385;    \n",
       "1                 Revista iberoamericana de micologia   20974273;    \n",
       "2                      Journal of experimental botany   17728292;    \n",
       "3        Methods in molecular biology (Clifton, N.J.)   35781205;    \n",
       "4                                            PloS one   35639710;    \n",
       "..                                                 ...         ...   \n",
       "995                        Journal of dental research   17652207;    \n",
       "996                                         Autophagy   29261001;    \n",
       "997  Biochimica et biophysica acta. Molecular and c...  30597201;    \n",
       "998  Proceedings of the National Academy of Science...  32366662;    \n",
       "999                                    Molecular cell   23499006;    \n",
       "\n",
       "                                              abstract  Label  \\\n",
       "0    Copy number alterations detected by comparativ...    1.0   \n",
       "1    Aspergillus fumigatus is an opportunistic path...    1.0   \n",
       "2    Catalase and hydrogen peroxide (H(2)O(2)) have...    1.0   \n",
       "3    The availability of exceptionally strong and t...    1.0   \n",
       "4    Positive and counter-selectable markers have b...    1.0   \n",
       "..                                                 ...    ...   \n",
       "995  Amelogenesis imperfecta is an inherited disord...    0.0   \n",
       "996  In macroautophagy/autophagy, cargoes are colle...    0.0   \n",
       "997  Protein modification by arginylation regulates...    0.0   \n",
       "998  The Arg/N-degron pathway targets proteins for ...    0.0   \n",
       "999  Protein aggregates are a common feature of neu...    0.0   \n",
       "\n",
       "                                          cleaned_data  str_len  \n",
       "0    Copy number alteration detected comparative ge...     1711  \n",
       "1    Aspergillus fumigatus opportunistic pathogen c...     3708  \n",
       "2    Catalase hydrogen peroxide H O extensively stu...     1714  \n",
       "3    The availability exceptionally strong tightly ...     1327  \n",
       "4    Positive counter selectable marker successfull...     1147  \n",
       "..                                                 ...      ...  \n",
       "995  Amelogenesis imperfecta inherited disorder aff...     1061  \n",
       "996  In macroautophagy autophagy cargo collected sp...     1419  \n",
       "997  Protein modification arginylation regulates pr...     1713  \n",
       "998  The Arg N degron pathway target protein degrad...     1921  \n",
       "999  Protein aggregate common feature neurodegenera...     1105  \n",
       "\n",
       "[979 rows x 6 columns]"
      ]
     },
     "execution_count": 7,
     "metadata": {},
     "output_type": "execute_result"
    }
   ],
   "source": [
    "# df_original[\"cleaned_data\"] = df_original[df_original.columns[len(df_original.columns)-1]]\n",
    "# df_original.head()\n",
    "df_original[\"cleaned_data\"] = df_original['abstract'].apply(text_cleaning)\n",
    "df_original['str_len'] = df_original['abstract'].apply(len)\n",
    "df_original"
   ]
  },
  {
   "cell_type": "code",
   "execution_count": 8,
   "metadata": {},
   "outputs": [],
   "source": [
    "myTokenizer = Tokenizer(num_words=1000)"
   ]
  },
  {
   "cell_type": "code",
   "execution_count": 9,
   "metadata": {},
   "outputs": [],
   "source": [
    "# tokenize the sentences (but using keras this time)\n",
    "df_original.iloc[:,-2]\n",
    "myTokenizer.fit_on_texts(df_original.iloc[:,-2])\n",
    "sequences = myTokenizer.texts_to_sequences(df_original.iloc[:,-2])\n",
    "\n",
    "# padding (make everything the same dimension by adding zeros to the front)\n",
    "padded = pad_sequences(sequences, maxlen=len(df_original.iloc[:,-2][3].split(\" \")))"
   ]
  },
  {
   "cell_type": "code",
   "execution_count": 10,
   "metadata": {},
   "outputs": [
    {
     "name": "stdout",
     "output_type": "stream",
     "text": [
      "0      1.0\n",
      "1      1.0\n",
      "2      1.0\n",
      "3      1.0\n",
      "4      1.0\n",
      "      ... \n",
      "995    0.0\n",
      "996    0.0\n",
      "997    0.0\n",
      "998    0.0\n",
      "999    0.0\n",
      "Name: Label, Length: 979, dtype: float64\n"
     ]
    },
    {
     "data": {
      "text/plain": [
       "100.0"
      ]
     },
     "execution_count": 10,
     "metadata": {},
     "output_type": "execute_result"
    }
   ],
   "source": [
    "print(df_original['Label']) \n",
    "sum(df_original['Label'])"
   ]
  },
  {
   "cell_type": "code",
   "execution_count": 11,
   "metadata": {},
   "outputs": [
    {
     "data": {
      "text/plain": [
       "979"
      ]
     },
     "execution_count": 11,
     "metadata": {},
     "output_type": "execute_result"
    }
   ],
   "source": [
    "# x = padded\n",
    "x = df_original['cleaned_data']\n",
    "y = df_original.Label.values \n",
    "len(x)"
   ]
  },
  {
   "cell_type": "code",
   "execution_count": null,
   "metadata": {},
   "outputs": [],
   "source": [
    "# def balanced_subsample(x,y,subsample_size=1.0):\n",
    "\n",
    "#     class_xs = []\n",
    "#     min_elems = None\n",
    "\n",
    "#     for yi in np.unique(y):\n",
    "#         elems = x[(y == yi)]\n",
    "#         class_xs.append((yi, elems))\n",
    "#         if min_elems == None or elems.shape[0] < min_elems:\n",
    "#             min_elems = elems.shape[0]\n",
    "\n",
    "#     use_elems = min_elems\n",
    "#     if subsample_size < 1:\n",
    "#         use_elems = int(min_elems*subsample_size)\n",
    "\n",
    "#     xs = []\n",
    "#     ys = []\n",
    "\n",
    "#     for ci, this_xs in class_xs:\n",
    "#         if len(this_xs) > use_elems:\n",
    "#             np.random.shuffle(this_xs)\n",
    "\n",
    "#         x_ = this_xs[:use_elems]\n",
    "#         y_ = np.empty(use_elems)\n",
    "#         y_.fill(ci)\n",
    "\n",
    "#         xs.append(x_)\n",
    "#         ys.append(y_)\n",
    "\n",
    "#     xs = np.concatenate(xs)\n",
    "#     ys = np.concatenate(ys)\n",
    "\n",
    "#     return xs,ys\n",
    "\n",
    "# x, y = balanced_subsample(x,y)"
   ]
  },
  {
   "cell_type": "code",
   "execution_count": 12,
   "metadata": {},
   "outputs": [],
   "source": [
    "x_train, x_valid, y_train, y_valid = train_test_split(x, y, \n",
    "                    test_size=0.15,\n",
    "                    random_state=42, \n",
    "                    shuffle=True,\n",
    "                    stratify=y,\n",
    "                    )"
   ]
  },
  {
   "cell_type": "code",
   "execution_count": 13,
   "metadata": {},
   "outputs": [],
   "source": [
    "phyB_classifier = Pipeline(steps=[\n",
    "    ('pre_processing',TfidfVectorizer(lowercase=False)),\n",
    "    ('naive_bayes',MultinomialNB())\n",
    "])"
   ]
  },
  {
   "cell_type": "code",
   "execution_count": 14,
   "metadata": {},
   "outputs": [
    {
     "data": {
      "text/html": [
       "<style>#sk-container-id-1 {color: black;background-color: white;}#sk-container-id-1 pre{padding: 0;}#sk-container-id-1 div.sk-toggleable {background-color: white;}#sk-container-id-1 label.sk-toggleable__label {cursor: pointer;display: block;width: 100%;margin-bottom: 0;padding: 0.3em;box-sizing: border-box;text-align: center;}#sk-container-id-1 label.sk-toggleable__label-arrow:before {content: \"▸\";float: left;margin-right: 0.25em;color: #696969;}#sk-container-id-1 label.sk-toggleable__label-arrow:hover:before {color: black;}#sk-container-id-1 div.sk-estimator:hover label.sk-toggleable__label-arrow:before {color: black;}#sk-container-id-1 div.sk-toggleable__content {max-height: 0;max-width: 0;overflow: hidden;text-align: left;background-color: #f0f8ff;}#sk-container-id-1 div.sk-toggleable__content pre {margin: 0.2em;color: black;border-radius: 0.25em;background-color: #f0f8ff;}#sk-container-id-1 input.sk-toggleable__control:checked~div.sk-toggleable__content {max-height: 200px;max-width: 100%;overflow: auto;}#sk-container-id-1 input.sk-toggleable__control:checked~label.sk-toggleable__label-arrow:before {content: \"▾\";}#sk-container-id-1 div.sk-estimator input.sk-toggleable__control:checked~label.sk-toggleable__label {background-color: #d4ebff;}#sk-container-id-1 div.sk-label input.sk-toggleable__control:checked~label.sk-toggleable__label {background-color: #d4ebff;}#sk-container-id-1 input.sk-hidden--visually {border: 0;clip: rect(1px 1px 1px 1px);clip: rect(1px, 1px, 1px, 1px);height: 1px;margin: -1px;overflow: hidden;padding: 0;position: absolute;width: 1px;}#sk-container-id-1 div.sk-estimator {font-family: monospace;background-color: #f0f8ff;border: 1px dotted black;border-radius: 0.25em;box-sizing: border-box;margin-bottom: 0.5em;}#sk-container-id-1 div.sk-estimator:hover {background-color: #d4ebff;}#sk-container-id-1 div.sk-parallel-item::after {content: \"\";width: 100%;border-bottom: 1px solid gray;flex-grow: 1;}#sk-container-id-1 div.sk-label:hover label.sk-toggleable__label {background-color: #d4ebff;}#sk-container-id-1 div.sk-serial::before {content: \"\";position: absolute;border-left: 1px solid gray;box-sizing: border-box;top: 0;bottom: 0;left: 50%;z-index: 0;}#sk-container-id-1 div.sk-serial {display: flex;flex-direction: column;align-items: center;background-color: white;padding-right: 0.2em;padding-left: 0.2em;position: relative;}#sk-container-id-1 div.sk-item {position: relative;z-index: 1;}#sk-container-id-1 div.sk-parallel {display: flex;align-items: stretch;justify-content: center;background-color: white;position: relative;}#sk-container-id-1 div.sk-item::before, #sk-container-id-1 div.sk-parallel-item::before {content: \"\";position: absolute;border-left: 1px solid gray;box-sizing: border-box;top: 0;bottom: 0;left: 50%;z-index: -1;}#sk-container-id-1 div.sk-parallel-item {display: flex;flex-direction: column;z-index: 1;position: relative;background-color: white;}#sk-container-id-1 div.sk-parallel-item:first-child::after {align-self: flex-end;width: 50%;}#sk-container-id-1 div.sk-parallel-item:last-child::after {align-self: flex-start;width: 50%;}#sk-container-id-1 div.sk-parallel-item:only-child::after {width: 0;}#sk-container-id-1 div.sk-dashed-wrapped {border: 1px dashed gray;margin: 0 0.4em 0.5em 0.4em;box-sizing: border-box;padding-bottom: 0.4em;background-color: white;}#sk-container-id-1 div.sk-label label {font-family: monospace;font-weight: bold;display: inline-block;line-height: 1.2em;}#sk-container-id-1 div.sk-label-container {text-align: center;}#sk-container-id-1 div.sk-container {/* jupyter's `normalize.less` sets `[hidden] { display: none; }` but bootstrap.min.css set `[hidden] { display: none !important; }` so we also need the `!important` here to be able to override the default hidden behavior on the sphinx rendered scikit-learn.org. See: https://github.com/scikit-learn/scikit-learn/issues/21755 */display: inline-block !important;position: relative;}#sk-container-id-1 div.sk-text-repr-fallback {display: none;}</style><div id=\"sk-container-id-1\" class=\"sk-top-container\"><div class=\"sk-text-repr-fallback\"><pre>Pipeline(steps=[(&#x27;pre_processing&#x27;, TfidfVectorizer(lowercase=False)),\n",
       "                (&#x27;naive_bayes&#x27;, MultinomialNB())])</pre><b>In a Jupyter environment, please rerun this cell to show the HTML representation or trust the notebook. <br />On GitHub, the HTML representation is unable to render, please try loading this page with nbviewer.org.</b></div><div class=\"sk-container\" hidden><div class=\"sk-item sk-dashed-wrapped\"><div class=\"sk-label-container\"><div class=\"sk-label sk-toggleable\"><input class=\"sk-toggleable__control sk-hidden--visually\" id=\"sk-estimator-id-1\" type=\"checkbox\" ><label for=\"sk-estimator-id-1\" class=\"sk-toggleable__label sk-toggleable__label-arrow\">Pipeline</label><div class=\"sk-toggleable__content\"><pre>Pipeline(steps=[(&#x27;pre_processing&#x27;, TfidfVectorizer(lowercase=False)),\n",
       "                (&#x27;naive_bayes&#x27;, MultinomialNB())])</pre></div></div></div><div class=\"sk-serial\"><div class=\"sk-item\"><div class=\"sk-estimator sk-toggleable\"><input class=\"sk-toggleable__control sk-hidden--visually\" id=\"sk-estimator-id-2\" type=\"checkbox\" ><label for=\"sk-estimator-id-2\" class=\"sk-toggleable__label sk-toggleable__label-arrow\">TfidfVectorizer</label><div class=\"sk-toggleable__content\"><pre>TfidfVectorizer(lowercase=False)</pre></div></div></div><div class=\"sk-item\"><div class=\"sk-estimator sk-toggleable\"><input class=\"sk-toggleable__control sk-hidden--visually\" id=\"sk-estimator-id-3\" type=\"checkbox\" ><label for=\"sk-estimator-id-3\" class=\"sk-toggleable__label sk-toggleable__label-arrow\">MultinomialNB</label><div class=\"sk-toggleable__content\"><pre>MultinomialNB()</pre></div></div></div></div></div></div></div>"
      ],
      "text/plain": [
       "Pipeline(steps=[('pre_processing', TfidfVectorizer(lowercase=False)),\n",
       "                ('naive_bayes', MultinomialNB())])"
      ]
     },
     "execution_count": 14,
     "metadata": {},
     "output_type": "execute_result"
    }
   ],
   "source": [
    "phyB_classifier.fit(x_train, y_train) "
   ]
  },
  {
   "cell_type": "code",
   "execution_count": 15,
   "metadata": {},
   "outputs": [],
   "source": [
    "y_predict = phyB_classifier.predict(x_valid) "
   ]
  },
  {
   "cell_type": "code",
   "execution_count": 16,
   "metadata": {},
   "outputs": [
    {
     "data": {
      "text/plain": [
       "0.8979591836734694"
      ]
     },
     "execution_count": 16,
     "metadata": {},
     "output_type": "execute_result"
    }
   ],
   "source": [
    "accuracy_score(y_valid, y_predict) "
   ]
  },
  {
   "cell_type": "code",
   "execution_count": 17,
   "metadata": {},
   "outputs": [
    {
     "data": {
      "text/plain": [
       "['/Users/emilyjiang/Desktop/Webscraping']"
      ]
     },
     "execution_count": 17,
     "metadata": {},
     "output_type": "execute_result"
    }
   ],
   "source": [
    "import joblib\n",
    "# import it to the webscraping folder\n",
    "joblib.dump(phyB_classifier, '/Users/emilyjiang/Desktop/Webscraping')"
   ]
  }
 ],
 "metadata": {
  "kernelspec": {
   "display_name": "base",
   "language": "python",
   "name": "python3"
  },
  "language_info": {
   "codemirror_mode": {
    "name": "ipython",
    "version": 3
   },
   "file_extension": ".py",
   "mimetype": "text/x-python",
   "name": "python",
   "nbconvert_exporter": "python",
   "pygments_lexer": "ipython3",
   "version": "3.9.12"
  },
  "orig_nbformat": 4
 },
 "nbformat": 4,
 "nbformat_minor": 2
}
