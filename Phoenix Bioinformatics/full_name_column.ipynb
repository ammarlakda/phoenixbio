{
 "cells": [
  {
   "cell_type": "code",
   "execution_count": 73,
   "metadata": {},
   "outputs": [],
   "source": [
    "import pandas as pd"
   ]
  },
  {
   "cell_type": "code",
   "execution_count": 74,
   "metadata": {},
   "outputs": [],
   "source": [
    "with open(\"gene_aliases_20210930.csv\", 'r') as temp_f:\n",
    "    # get No of columns in each line\n",
    "    col_count = [ len(l.split(\",\")) for l in temp_f.readlines() ]\n",
    "\n",
    "### Generate column names  (names will be 0, 1, 2, ..., maximum columns - 1)\n",
    "column_names = [i for i in range(0, max(col_count))]\n",
    "\n",
    "### Read csv\n",
    "df = pd.read_csv(\"gene_aliases_20210930.csv\", header=None, delimiter=\",\", names=column_names)"
   ]
  },
  {
   "cell_type": "code",
   "execution_count": 75,
   "metadata": {},
   "outputs": [
    {
     "data": {
      "text/html": [
       "<div>\n",
       "<style scoped>\n",
       "    .dataframe tbody tr th:only-of-type {\n",
       "        vertical-align: middle;\n",
       "    }\n",
       "\n",
       "    .dataframe tbody tr th {\n",
       "        vertical-align: top;\n",
       "    }\n",
       "\n",
       "    .dataframe thead th {\n",
       "        text-align: right;\n",
       "    }\n",
       "</style>\n",
       "<table border=\"1\" class=\"dataframe\">\n",
       "  <thead>\n",
       "    <tr style=\"text-align: right;\">\n",
       "      <th></th>\n",
       "      <th>0</th>\n",
       "      <th>1</th>\n",
       "      <th>2</th>\n",
       "      <th>3</th>\n",
       "      <th>4</th>\n",
       "      <th>5</th>\n",
       "      <th>6</th>\n",
       "      <th>7</th>\n",
       "      <th>8</th>\n",
       "    </tr>\n",
       "  </thead>\n",
       "  <tbody>\n",
       "    <tr>\n",
       "      <th>0</th>\n",
       "      <td>locus_name</td>\n",
       "      <td>NaN</td>\n",
       "      <td>symbol</td>\n",
       "      <td>NaN</td>\n",
       "      <td>NaN</td>\n",
       "      <td>NaN</td>\n",
       "      <td>NaN</td>\n",
       "      <td>NaN</td>\n",
       "      <td>NaN</td>\n",
       "    </tr>\n",
       "    <tr>\n",
       "      <th>1</th>\n",
       "      <td>18S RRNA</td>\n",
       "      <td>18S RRNA</td>\n",
       "      <td>NaN</td>\n",
       "      <td>NaN</td>\n",
       "      <td>NaN</td>\n",
       "      <td>NaN</td>\n",
       "      <td>NaN</td>\n",
       "      <td>NaN</td>\n",
       "      <td>NaN</td>\n",
       "    </tr>\n",
       "    <tr>\n",
       "      <th>2</th>\n",
       "      <td>25S RRNA</td>\n",
       "      <td>25S RRNA</td>\n",
       "      <td>NaN</td>\n",
       "      <td>NaN</td>\n",
       "      <td>NaN</td>\n",
       "      <td>NaN</td>\n",
       "      <td>NaN</td>\n",
       "      <td>NaN</td>\n",
       "      <td>NaN</td>\n",
       "    </tr>\n",
       "    <tr>\n",
       "      <th>3</th>\n",
       "      <td>5.8S RRNA</td>\n",
       "      <td>5.8S RRNA</td>\n",
       "      <td>NaN</td>\n",
       "      <td>NaN</td>\n",
       "      <td>NaN</td>\n",
       "      <td>NaN</td>\n",
       "      <td>NaN</td>\n",
       "      <td>NaN</td>\n",
       "      <td>NaN</td>\n",
       "    </tr>\n",
       "    <tr>\n",
       "      <th>4</th>\n",
       "      <td>AAN</td>\n",
       "      <td>AAN</td>\n",
       "      <td>NaN</td>\n",
       "      <td>NaN</td>\n",
       "      <td>ANOTHER ANDANTE</td>\n",
       "      <td>NaN</td>\n",
       "      <td>NaN</td>\n",
       "      <td>NaN</td>\n",
       "      <td>NaN</td>\n",
       "    </tr>\n",
       "  </tbody>\n",
       "</table>\n",
       "</div>"
      ],
      "text/plain": [
       "            0          1       2    3                4   5   6   7   8\n",
       "0  locus_name        NaN  symbol  NaN              NaN NaN NaN NaN NaN\n",
       "1    18S RRNA   18S RRNA     NaN  NaN              NaN NaN NaN NaN NaN\n",
       "2    25S RRNA   25S RRNA     NaN  NaN              NaN NaN NaN NaN NaN\n",
       "3   5.8S RRNA  5.8S RRNA     NaN  NaN              NaN NaN NaN NaN NaN\n",
       "4         AAN        AAN     NaN  NaN  ANOTHER ANDANTE NaN NaN NaN NaN"
      ]
     },
     "execution_count": 75,
     "metadata": {},
     "output_type": "execute_result"
    }
   ],
   "source": [
    "df.head()"
   ]
  },
  {
   "cell_type": "code",
   "execution_count": 76,
   "metadata": {},
   "outputs": [
    {
     "name": "stdout",
     "output_type": "stream",
     "text": [
      "[nan 'ANOTHER ANDANTE' 'ALLYL ALCOHOL RESISTANT 2'\n",
      " 'ALLYL ALCOHOL RESISTANT 4' 'ACAULIS 3' 'ACAULIS 4'\n",
      " 'ARRESTED DEVELOPMENT 1' 'ARRESTED DEVELOPMENT 2'\n",
      " 'ARRESTED DEVELOPMENT 3' 'ABA DEREGULATED GENE EXPRESSION 3'\n",
      " 'AUXIN ALTERED GENE EXPRESSION 1' 'AUXIN ALTERED GENE EXPRESSION 2'\n",
      " 'ABERRANT GST1 INDUCTION' 'ALTERED HYDROTROPIC RESPONSE 3'\n",
      " 'ASPARTATE KINASE 4' 'ALBINA 4' 'ABERRANT LATERAL ROOT FORMATION 2'\n",
      " 'ALIEN' 'ALUMINUM RESISTANT 104' 'ALUMINUM RESISTANT 128'\n",
      " 'ALUMINUM SENSITIVE 2' 'ALUMINUM SENSITIVE 4' 'ALUMINUM SENSITIVE 5'\n",
      " 'ALUMINUM SENSITIVE 7' 'ammonium overly sensitive 4' 'ANDANTE'\n",
      " 'ANTHOCYANINLESS 3' 'Ara3'\n",
      " 'ACCUMULATION AND REPLICATION OF CHLOROPLASTS 10'\n",
      " 'ACCUMULATION AND REPLICATION OF CHLOROPLASTS 4'\n",
      " 'ACCUMULATION AND REPLICATION OF CHLOROPLASTS 7'\n",
      " 'ACCUMULATION AND REPLICATION OF CHLOROPLASTS 8'\n",
      " 'ACCUMULATION AND REPLICATION OF CHLOROPLASTS 9'\n",
      " 'ALTERED RNASE PROFILES 3' 'ARSENIC RESISTANCE 3'\n",
      " 'ACCELERATION OF SYMPTOMS BY CAMV N7 3' 'NAC domain containing protein 1'\n",
      " 'NGATHA4' 'ABNORMAL SUSPENSOR 2' 'DICER-LIKE 1' 'CARPEL FACTORY'\n",
      " 'dicer-like 2' 'EMBRYO DEFECTIVE 60' 'EMBRYO DEFECTIVE 76'\n",
      " 'SHORT INTEGUMENTS 3' 'SUSPENSOR 3' 'microRNA838A' 'pyrophosphorylase 1'\n",
      " 'LATE ELONGATED HYPOCOTYL' 'LATE ELONGATED HYPOCOTYL 3'\n",
      " 'Usually multiple acids move in and out Transporters '\n",
      " 'pyruvate dehydrogenase E1 alpha' 'RPP1 co-orthologous gene 3'\n",
      " '60S acidic ribosomal protein P1-3' 'IQ-domain 20'\n",
      " '3-ketoacyl-CoA synthase 3' 'CBL-interacting protein kinase 11'\n",
      " 'PROTEIN KINASE 8' 'SNF1-RELATED PROTEIN KINASE 3.14'\n",
      " 'GRF1-interacting factor 4' 'MICRORNA 167' 'microRNA165A' 'miPEP165a'\n",
      " 'cytochrome P450, family 78, subfamily A, '\n",
      " 'ARABIDOPSIS RAB GTPASE HOMOLOG A4' 'RAB GTPase homolog A4'\n",
      " 'RAB GTPase homolog A3' 'Arabidopsis thaliana L-fucokinase/GDP-L-fucose '\n",
      " 'L-fucokinase/GDP-L-fucose pyrophosphorylase' 'Orosomucoid-like 2'\n",
      " 'Jasmonate Associated MYC2 LIKE 3'\n",
      " 'cytochrome P450, family 703, subfamily A, '\n",
      " 'cofactor of nitrate reductase and xanthine dehydrogenase '\n",
      " 'FLOURY ENDOSPERM LIKE 4' 'REDUCED CHLOROPLAST COVERAGE'\n",
      " 'auxin-responsive endogenous polypeptide 3'\n",
      " 'cyclic nucleotide gated channel 10' 'PYRABACTIN RESISTANCE 1-LIKE 11'\n",
      " 'regulatory component of ABA receptor 3' 'CENTROMERIC HISTONE H5'\n",
      " 'ENHANCER OF TRY AND CPC 3' 'pumilio 24' 'pumilio 22'\n",
      " 'UDP-glucosyl transferase 72B5' 'mannan O-acetyltransferase 3'\n",
      " 'TRICHOME BIREFRINGENCE-LIKE 25' 'LATE EMBRYOGENESIS ABUNDANT 16'\n",
      " 'LIGHT STRESS-REGULATED 5'\n",
      " '1-amino-cyclopropane-1-carboxylate synthase 4' 'ANGUSTIFOLIA'\n",
      " 'DETORQUEO' 'ALTERED SEED GERMINATION 6' 'REVEILLE 5' 'AGAMOUS-like 30'\n",
      " 'BYPASS 3' 'MAP kinase 11' 'FERRIC CHELATE REDUCTASE DEFECTIVE 3'\n",
      " 'ferric reduction oxidase 2' 'ferric reduction oxidase 1'\n",
      " 'GLYCEROL-3-PHOSPHATE sn-2-ACYLTRANSFERASE 4'\n",
      " 'plasma membrane intrinsic protein 1C' 'SIGNAL PEPTIDE PEPTIDASE-LIKE 4'\n",
      " 'plant U-box 54' 'putative recombination initiation defects 5'\n",
      " 'TON1 Recruiting Motif 35' '14-3-3 PROTEIN G-BOX FACTOR14 EPSILON'\n",
      " 'phosphoinositide 4-kinase gamma 1']\n"
     ]
    }
   ],
   "source": [
    "full_name_col = df.iloc[:,2]\n",
    "full_name_col2 = df.iloc[:,3]\n",
    "full_name_col3 = df.iloc[:,4]\n",
    "print(full_name_col3.unique())"
   ]
  },
  {
   "cell_type": "code",
   "execution_count": 77,
   "metadata": {},
   "outputs": [],
   "source": [
    "frames = [full_name_col, full_name_col2, full_name_col3]\n",
    "name = pd.concat(frames)"
   ]
  },
  {
   "cell_type": "code",
   "execution_count": 78,
   "metadata": {},
   "outputs": [
    {
     "name": "stdout",
     "output_type": "stream",
     "text": [
      "0        symbol\n",
      "1           NaN\n",
      "2           NaN\n",
      "3           NaN\n",
      "4           NaN\n",
      "          ...  \n",
      "28958       NaN\n",
      "28959       NaN\n",
      "28960       NaN\n",
      "28961       NaN\n",
      "28962       NaN\n",
      "Length: 86889, dtype: object\n"
     ]
    }
   ],
   "source": [
    "print(name)"
   ]
  },
  {
   "cell_type": "code",
   "execution_count": 79,
   "metadata": {},
   "outputs": [
    {
     "data": {
      "text/plain": [
       "count                                                 20916\n",
       "unique                                                18991\n",
       "top       Usually multiple acids move in and out Transpo...\n",
       "freq                                                     44\n",
       "dtype: object"
      ]
     },
     "execution_count": 79,
     "metadata": {},
     "output_type": "execute_result"
    }
   ],
   "source": [
    "name.describe()"
   ]
  }
 ],
 "metadata": {
  "kernelspec": {
   "display_name": "Python 3.9.6 64-bit",
   "language": "python",
   "name": "python3"
  },
  "language_info": {
   "codemirror_mode": {
    "name": "ipython",
    "version": 3
   },
   "file_extension": ".py",
   "mimetype": "text/x-python",
   "name": "python",
   "nbconvert_exporter": "python",
   "pygments_lexer": "ipython3",
   "version": "3.9.6"
  },
  "orig_nbformat": 4,
  "vscode": {
   "interpreter": {
    "hash": "faf916b7f1649d0c9e2bd175ba5cff1faa329b440f2f0cb683f71fac961db93f"
   }
  }
 },
 "nbformat": 4,
 "nbformat_minor": 2
}
