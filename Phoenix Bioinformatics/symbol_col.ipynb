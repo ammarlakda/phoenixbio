{
 "cells": [
  {
   "cell_type": "code",
   "execution_count": 37,
   "metadata": {},
   "outputs": [],
   "source": [
    "import pandas as pd"
   ]
  },
  {
   "cell_type": "code",
   "execution_count": 38,
   "metadata": {},
   "outputs": [],
   "source": [
    "with open(\"C:\\code\\Qmind\\PheonixBio\\phoenixbio\\Phoenix Bioinformatics\\gene_aliases_20210930.csv\", 'r') as temp_f:\n",
    "    # get No of columns in each line\n",
    "    col_count = [ len(l.split(\",\")) for l in temp_f.readlines() ]\n",
    "\n",
    "### Generate column names  (names will be 0, 1, 2, ..., maximum columns - 1)\n",
    "column_names = [i for i in range(0, max(col_count))]\n",
    "\n",
    "### Read csv\n",
    "df = pd.read_csv(\"C:\\code\\Qmind\\PheonixBio\\phoenixbio\\Phoenix Bioinformatics\\gene_aliases_20210930.csv\", header=None, delimiter=\",\", names=column_names)"
   ]
  },
  {
   "cell_type": "code",
   "execution_count": 39,
   "metadata": {},
   "outputs": [
    {
     "data": {
      "text/html": [
       "<div>\n",
       "<style scoped>\n",
       "    .dataframe tbody tr th:only-of-type {\n",
       "        vertical-align: middle;\n",
       "    }\n",
       "\n",
       "    .dataframe tbody tr th {\n",
       "        vertical-align: top;\n",
       "    }\n",
       "\n",
       "    .dataframe thead th {\n",
       "        text-align: right;\n",
       "    }\n",
       "</style>\n",
       "<table border=\"1\" class=\"dataframe\">\n",
       "  <thead>\n",
       "    <tr style=\"text-align: right;\">\n",
       "      <th></th>\n",
       "      <th>0</th>\n",
       "      <th>1</th>\n",
       "      <th>2</th>\n",
       "      <th>3</th>\n",
       "      <th>4</th>\n",
       "      <th>5</th>\n",
       "      <th>6</th>\n",
       "      <th>7</th>\n",
       "    </tr>\n",
       "  </thead>\n",
       "  <tbody>\n",
       "    <tr>\n",
       "      <th>0</th>\n",
       "      <td>locus_name</td>\n",
       "      <td>NaN</td>\n",
       "      <td>symbol</td>\n",
       "      <td>NaN</td>\n",
       "      <td>full_name</td>\n",
       "      <td>NaN</td>\n",
       "      <td>NaN</td>\n",
       "      <td>NaN</td>\n",
       "    </tr>\n",
       "    <tr>\n",
       "      <th>1</th>\n",
       "      <td>18S RRNA</td>\n",
       "      <td>NaN</td>\n",
       "      <td>18S RRNA</td>\n",
       "      <td>NaN</td>\n",
       "      <td>NaN</td>\n",
       "      <td>NaN</td>\n",
       "      <td>NaN</td>\n",
       "      <td>NaN</td>\n",
       "    </tr>\n",
       "    <tr>\n",
       "      <th>2</th>\n",
       "      <td>25S RRNA</td>\n",
       "      <td>NaN</td>\n",
       "      <td>25S RRNA</td>\n",
       "      <td>NaN</td>\n",
       "      <td>NaN</td>\n",
       "      <td>NaN</td>\n",
       "      <td>NaN</td>\n",
       "      <td>NaN</td>\n",
       "    </tr>\n",
       "    <tr>\n",
       "      <th>3</th>\n",
       "      <td>5.8S RRNA</td>\n",
       "      <td>NaN</td>\n",
       "      <td>5.8S RRNA</td>\n",
       "      <td>NaN</td>\n",
       "      <td>NaN</td>\n",
       "      <td>NaN</td>\n",
       "      <td>NaN</td>\n",
       "      <td>NaN</td>\n",
       "    </tr>\n",
       "    <tr>\n",
       "      <th>4</th>\n",
       "      <td>AAN</td>\n",
       "      <td>AAN</td>\n",
       "      <td>ANOTHER ANDANTE</td>\n",
       "      <td>NaN</td>\n",
       "      <td>NaN</td>\n",
       "      <td>NaN</td>\n",
       "      <td>NaN</td>\n",
       "      <td>NaN</td>\n",
       "    </tr>\n",
       "  </tbody>\n",
       "</table>\n",
       "</div>"
      ],
      "text/plain": [
       "            0    1                2    3          4   5   6   7\n",
       "0  locus_name  NaN           symbol  NaN  full_name NaN NaN NaN\n",
       "1    18S RRNA  NaN         18S RRNA  NaN        NaN NaN NaN NaN\n",
       "2    25S RRNA  NaN         25S RRNA  NaN        NaN NaN NaN NaN\n",
       "3   5.8S RRNA  NaN        5.8S RRNA  NaN        NaN NaN NaN NaN\n",
       "4         AAN  AAN  ANOTHER ANDANTE  NaN        NaN NaN NaN NaN"
      ]
     },
     "execution_count": 39,
     "metadata": {},
     "output_type": "execute_result"
    }
   ],
   "source": [
    "df.head()\n"
   ]
  },
  {
   "cell_type": "code",
   "execution_count": 53,
   "metadata": {},
   "outputs": [
    {
     "name": "stderr",
     "output_type": "stream",
     "text": [
      "C:\\Users\\David Hoernke\\AppData\\Local\\Temp\\ipykernel_48716\\2222975289.py:5: FutureWarning: In a future version of pandas all arguments of StringMethods.split except for the argument 'pat' will be keyword-only.\n",
      "  temp = df[1].str.split(' ',1)\n"
     ]
    },
    {
     "data": {
      "text/plain": [
       "['GPAT2', 'GLYCEROL-3-PHOSPHATE sn-2-ACYLTRANSFERASE 2']"
      ]
     },
     "execution_count": 53,
     "metadata": {},
     "output_type": "execute_result"
    }
   ],
   "source": [
    "temp= []\n",
    "\n",
    "\n",
    "\n",
    "temp = df[1].str.split(' ',1)\n",
    "    \n",
    "\n",
    "temp[237]"
   ]
  },
  {
   "cell_type": "code",
   "execution_count": 57,
   "metadata": {},
   "outputs": [
    {
     "ename": "TypeError",
     "evalue": "'float' object is not subscriptable",
     "output_type": "error",
     "traceback": [
      "\u001b[1;31m---------------------------------------------------------------------------\u001b[0m",
      "\u001b[1;31mTypeError\u001b[0m                                 Traceback (most recent call last)",
      "Cell \u001b[1;32mIn [57], line 5\u001b[0m\n\u001b[0;32m      3\u001b[0m     \u001b[39mprint\u001b[39m(tempList)\n\u001b[0;32m      4\u001b[0m \u001b[39melse\u001b[39;00m:\n\u001b[1;32m----> 5\u001b[0m     \u001b[39mprint\u001b[39m(tempList[\u001b[39m0\u001b[39;49m])\n",
      "\u001b[1;31mTypeError\u001b[0m: 'float' object is not subscriptable"
     ]
    }
   ],
   "source": [
    "for (tempList) in temp:\n",
    "    if (type(tempList))=='float':\n",
    "        print(tempList)\n",
    "    elif (type(tempList)=='list'):\n",
    "        print(tempList[0])\n",
    "    "
   ]
  },
  {
   "cell_type": "code",
   "execution_count": 47,
   "metadata": {},
   "outputs": [
    {
     "name": "stdout",
     "output_type": "stream",
     "text": [
      "MIR838A\n",
      "MIR838A\n",
      "MIR838A\n",
      "MIR838A\n",
      "MIR838A\n",
      "MIR838A\n",
      "MIR838A\n",
      "MIR838A\n",
      "MIR838A\n",
      "MIR838A\n",
      "MIR838A\n",
      "MIR838A\n",
      "MIR838A\n",
      "MIR838A\n",
      "MIR838A\n",
      "MIR838A\n",
      "MIR838A\n",
      "MIR838A\n",
      "MIR838A\n",
      "MIR838A\n",
      "MIR838A\n",
      "MIR838A\n",
      "MIR838A\n",
      "MIR838A\n",
      "MIR838A\n",
      "MIR838A\n",
      "MIR838A\n",
      "MIR838A\n",
      "MIR838A\n",
      "MIR838A\n",
      "MIR838A\n",
      "MIR838A\n",
      "MIR838A\n",
      "MIR838A\n",
      "MIR838A\n",
      "MIR838A\n",
      "MIR838A\n",
      "MIR838A\n",
      "MIR838A\n",
      "MIR838A\n",
      "MIR838A\n",
      "MIR838A\n",
      "MIR838A\n",
      "MIR838A\n",
      "MIR838A\n",
      "MIR838A\n",
      "MIR838A\n",
      "MIR838A\n",
      "MIR838A\n",
      "MIR838A\n",
      "MIR838A\n",
      "MIR838A\n",
      "MIR838A\n",
      "MIR838A\n",
      "MIR838A\n",
      "MIR838A\n",
      "MIR838A\n",
      "MIR838A\n",
      "MIR838A\n",
      "MIR838A\n",
      "MIR838A\n",
      "MIR838A\n",
      "MIR838A\n",
      "MIR838A\n",
      "MIR838A\n",
      "MIR838A\n",
      "MIR838A\n",
      "MIR838A\n",
      "MIR838A\n",
      "MIR838A\n",
      "MIR838A\n",
      "MIR838A\n",
      "MIR838A\n",
      "MIR838A\n",
      "MIR838A\n",
      "MIR838A\n",
      "MIR838A\n",
      "MIR838A\n",
      "MIR838A\n",
      "MIR838A\n",
      "MIR838A\n",
      "MIR838A\n",
      "MIR838A\n",
      "MIR838A\n",
      "MIR838A\n",
      "MIR838A\n",
      "MIR838A\n",
      "MIR838A\n",
      "MIR838A\n",
      "MIR838A\n",
      "MIR838A\n",
      "MIR838A\n",
      "MIR838A\n",
      "MIR838A\n",
      "MIR838A\n",
      "MIR838A\n",
      "MIR838A\n",
      "MIR838A\n",
      "MIR838A\n"
     ]
    }
   ],
   "source": [
    "temp2 = []\n",
    "\n",
    "def appendToo(var):\n",
    "    temp2.append(temp[56][0])\n",
    "\n",
    "x=0\n",
    "\n",
    "while x<len(temp)-1:\n",
    "    appendToo(x)\n",
    "   \n",
    "    print(temp2[x])\n",
    "    x=x+1"
   ]
  },
  {
   "cell_type": "code",
   "execution_count": 45,
   "metadata": {},
   "outputs": [
    {
     "name": "stdout",
     "output_type": "stream",
     "text": [
      "['PYL9']\n"
     ]
    }
   ],
   "source": [
    "print(temp[99][0])"
   ]
  }
 ],
 "metadata": {
  "kernelspec": {
   "display_name": "Python 3",
   "language": "python",
   "name": "python3"
  },
  "language_info": {
   "codemirror_mode": {
    "name": "ipython",
    "version": 3
   },
   "file_extension": ".py",
   "mimetype": "text/x-python",
   "name": "python",
   "nbconvert_exporter": "python",
   "pygments_lexer": "ipython3",
   "version": "3.10.7"
  },
  "orig_nbformat": 4,
  "vscode": {
   "interpreter": {
    "hash": "44b503d4a4545c9180faf2097b5471a7703601be8663d8a48320e805fa4d2b29"
   }
  }
 },
 "nbformat": 4,
 "nbformat_minor": 2
}
