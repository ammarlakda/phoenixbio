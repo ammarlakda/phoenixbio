{
 "cells": [
  {
   "cell_type": "code",
   "execution_count": 10,
   "metadata": {},
   "outputs": [],
   "source": [
    "import re\n",
    "import string\n",
    "import numpy as np\n",
    "import pandas as pd\n",
    "from sklearn.feature_extraction.text import TfidfVectorizer\n",
    "\n",
    "\n",
    "\n",
    "def retrieve_docs_and_clean():\n",
    "  main_df = pd.read_csv(r'C:\\Users\\ammar\\OneDrive\\Desktop\\phoenixbio\\Phoenix Bioinformatics\\IF Code\\cleanedDatasets\\phyb.csv')\n",
    "  #df = df['abstract']\n",
    "  # Clean Paragraphs\n",
    "  col_list =  list(main_df[\"abstract\"])\n",
    "\n",
    "  documents_clean = []\n",
    "  for d in col_list:\n",
    "    if isinstance(d, str):\n",
    "        document_test = re.sub(r'[^\\x00-\\x7F]+', ' ', d)\n",
    "        document_test = re.sub(r'@\\w+', '', document_test)\n",
    "        document_test = document_test.lower()\n",
    "        document_test = re.sub(r'[%s]' % re.escape(string.punctuation), ' ', document_test)\n",
    "        document_test = re.sub(r'[0-9]', '', document_test)\n",
    "        document_test = re.sub(r'\\s{2,}', ' ', document_test)\n",
    "        documents_clean.append(document_test)\n",
    "\n",
    "  return documents_clean, main_df"
   ]
  },
  {
   "cell_type": "code",
   "execution_count": 11,
   "metadata": {},
   "outputs": [],
   "source": [
    "docs,main_df = retrieve_docs_and_clean()\n",
    "\n",
    "# Create Term-Document Matrix with TF-IDF weighting\n",
    "vectorizer = TfidfVectorizer()\n",
    "X = vectorizer.fit_transform(docs)\n",
    "\n"
   ]
  },
  {
   "cell_type": "code",
   "execution_count": 12,
   "metadata": {},
   "outputs": [
    {
     "name": "stdout",
     "output_type": "stream",
     "text": [
      "            0    1         2    3    4    5    6         7    8    9   ...  \\\n",
      "aba        0.0  0.0  0.000000  0.0  0.0  0.0  0.0  0.000000  0.0  0.0  ...   \n",
      "ability    0.0  0.0  0.000000  0.0  0.0  0.0  0.0  0.070121  0.0  0.0  ...   \n",
      "abiotic    0.0  0.0  0.000000  0.0  0.0  0.0  0.0  0.000000  0.0  0.0  ...   \n",
      "abolishes  0.0  0.0  0.058307  0.0  0.0  0.0  0.0  0.000000  0.0  0.0  ...   \n",
      "aborted    0.0  0.0  0.000000  0.0  0.0  0.0  0.0  0.000000  0.0  0.0  ...   \n",
      "\n",
      "            43   44   45   46        47        48   49        50   51   52  \n",
      "aba        0.0  0.0  0.0  0.0  0.000000  0.000000  0.0  0.000000  0.0  0.0  \n",
      "ability    0.0  0.0  0.0  0.0  0.000000  0.000000  0.0  0.052743  0.0  0.0  \n",
      "abiotic    0.0  0.0  0.0  0.0  0.079697  0.285453  0.0  0.000000  0.0  0.0  \n",
      "abolishes  0.0  0.0  0.0  0.0  0.000000  0.000000  0.0  0.000000  0.0  0.0  \n",
      "aborted    0.0  0.0  0.0  0.0  0.000000  0.000000  0.0  0.000000  0.0  0.0  \n",
      "\n",
      "[5 rows x 53 columns]\n"
     ]
    }
   ],
   "source": [
    "# Create a DataFrame\n",
    "df = pd.DataFrame(X.T.toarray(), index=vectorizer.get_feature_names_out())\n",
    "print(df.head())"
   ]
  },
  {
   "cell_type": "code",
   "execution_count": null,
   "metadata": {},
   "outputs": [],
   "source": []
  },
  {
   "cell_type": "code",
   "execution_count": 13,
   "metadata": {},
   "outputs": [
    {
     "name": "stdout",
     "output_type": "stream",
     "text": [
      "query: photoreceptor active in photomorphogenesis phyB\n",
      "The following are articles with the highest cosine similarity values: \n",
      "photomorphogenesis refers to photoreceptor mediated morphological changes in plant development that are triggered by light multiple photoreceptors and transcription factors tfs are involved in the molecular regulation of photomorphogenesis likewise light can also modulate the outcome of plant virus interactions since both photosynthesis and many viral infection events occur in the chloroplast despite the apparent association between photosynthesis and virus infection little is known about whether there are also interplays between photomorphogenesis and plant virus resistance recent research suggests that plant virus interactions are potentially regulated by several photoreceptors and photomorphogenesis regulators including phytochromes a and b phya and phyb cryptochromes cry phototropin phot the photomorphogenesis repressor constitutive photomorphogenesis cop the nam ataf and cuc nac family tf ataf the aux iaa protein phytochrome associated protein pap the homeodomain leucine zipper hd zip tf hat and the core circadian clock component circadian clock associated cca particularly the plant growth promoting brassinosteroid br hormones play critical roles in integrating the regulatory pathways of plant photomorphogenesis and viral defense here we summarize the current understanding of molecular mechanisms linking plant photomorphogenesis and defense against viruses which represents an emerging interdisciplinary research topic in both molecular plant biology and virology \n",
      "46\n",
      "PMC7338571\n",
      "----------------------------------------------------------------------------------------------------\n"
     ]
    }
   ],
   "source": [
    "def get_similar_articles(q, df):\n",
    "  print(\"query:\", q)\n",
    "  print(\"The following are articles with the highest cosine similarity values: \")\n",
    "  q = [q]\n",
    "  q_vec = vectorizer.transform(q).toarray().reshape(df.shape[0],)\n",
    "  sim = {}\n",
    "  for i in df.columns:\n",
    "    sim[i] = np.dot(df.loc[:, i].values, q_vec) / np.linalg.norm(df.loc[:, i]) * np.linalg.norm(q_vec)\n",
    "  \n",
    "  sim_sorted = sorted(sim.items(), key=lambda x: x[1], reverse=True)\n",
    "  \n",
    "  for k, v in sim_sorted:\n",
    "    if v != 0.0:\n",
    "      #print(\"Similarity Value:\", v)\n",
    "      print(docs[k])\n",
    "      print(k)\n",
    "      print(main_df_temp[k])\n",
    "      return\n",
    "\n",
    "\n",
    "q1 = 'photoreceptor active in photomorphogenesis phyB'\n",
    "main_df_temp=list(main_df['pmcid'])\n",
    "get_similar_articles(q1, df)\n",
    "print('-'*100)"
   ]
  },
  {
   "cell_type": "code",
   "execution_count": 14,
   "metadata": {},
   "outputs": [
    {
     "name": "stderr",
     "output_type": "stream",
     "text": [
      "\u001b[32m2023-03-04 09:37:06\u001b[0m \u001b[35mDESKTOP-5C4MFAB\u001b[0m \u001b[34mmetapub.config[22532]\u001b[0m \u001b[1;30mWARNING\u001b[0m \u001b[33mNCBI_API_KEY was not set.\u001b[0m\n",
      "\u001b[32m2023-03-04 09:37:06\u001b[0m \u001b[35mDESKTOP-5C4MFAB\u001b[0m \u001b[34mmetapub.findit[22532]\u001b[0m \u001b[1;30mINFO\u001b[0m FindIt Cache initialized at C:\\Users\\ammar\\.cache\\findit.db\n"
     ]
    },
    {
     "ename": "TypeError",
     "evalue": "write() argument must be str, not bytes",
     "output_type": "error",
     "traceback": [
      "\u001b[1;31m---------------------------------------------------------------------------\u001b[0m",
      "\u001b[1;31mTypeError\u001b[0m                                 Traceback (most recent call last)",
      "Cell \u001b[1;32mIn[14], line 12\u001b[0m\n\u001b[0;32m      9\u001b[0m urlretrieve(url, \u001b[39mr\u001b[39m\u001b[39m\"\u001b[39m\u001b[39mC:\u001b[39m\u001b[39m\\\u001b[39m\u001b[39mUsers\u001b[39m\u001b[39m\\\u001b[39m\u001b[39mammar\u001b[39m\u001b[39m\\\u001b[39m\u001b[39mOneDrive\u001b[39m\u001b[39m\\\u001b[39m\u001b[39mDesktop\u001b[39m\u001b[39m\\\u001b[39m\u001b[39mphoenixbio\u001b[39m\u001b[39m\\\u001b[39m\u001b[39mPhoenix Bioinformatics\u001b[39m\u001b[39m\\\u001b[39m\u001b[39many\u001b[39m\u001b[39m\"\u001b[39m)\n\u001b[0;32m     11\u001b[0m \u001b[39mwith\u001b[39;00m \u001b[39mopen\u001b[39m(\u001b[39mr\u001b[39m\u001b[39m'\u001b[39m\u001b[39mC:\u001b[39m\u001b[39m\\\u001b[39m\u001b[39mUsers\u001b[39m\u001b[39m\\\u001b[39m\u001b[39mammar\u001b[39m\u001b[39m\\\u001b[39m\u001b[39mOneDrive\u001b[39m\u001b[39m\\\u001b[39m\u001b[39mDesktop\u001b[39m\u001b[39m\\\u001b[39m\u001b[39mphoenixbio\u001b[39m\u001b[39m\\\u001b[39m\u001b[39mPhoenix Bioinformatics/l\u001b[39m\u001b[39m'\u001b[39m, \u001b[39m\"\u001b[39m\u001b[39mw\u001b[39m\u001b[39m\"\u001b[39m) \u001b[39mas\u001b[39;00m textfile:\n\u001b[1;32m---> 12\u001b[0m     textfile\u001b[39m.\u001b[39;49mwrite(textract\u001b[39m.\u001b[39;49mprocess(\n\u001b[0;32m     13\u001b[0m         \u001b[39mr\u001b[39;49m\u001b[39m\"\u001b[39;49m\u001b[39mC:\u001b[39;49m\u001b[39m\\\u001b[39;49m\u001b[39mUsers\u001b[39;49m\u001b[39m\\\u001b[39;49m\u001b[39mammar\u001b[39;49m\u001b[39m\\\u001b[39;49m\u001b[39mOneDrive\u001b[39;49m\u001b[39m\\\u001b[39;49m\u001b[39mDesktop\u001b[39;49m\u001b[39m\\\u001b[39;49m\u001b[39mphoenixbio\u001b[39;49m\u001b[39m\\\u001b[39;49m\u001b[39mPhoenix Bioinformatics\u001b[39;49m\u001b[39m\\\u001b[39;49m\u001b[39many\u001b[39;49m\u001b[39m\"\u001b[39;49m,\n\u001b[0;32m     14\u001b[0m         extension\u001b[39m=\u001b[39;49m\u001b[39m'\u001b[39;49m\u001b[39mpdf\u001b[39;49m\u001b[39m'\u001b[39;49m,\n\u001b[0;32m     15\u001b[0m         method\u001b[39m=\u001b[39;49m\u001b[39m'\u001b[39;49m\u001b[39mpdftotext\u001b[39;49m\u001b[39m'\u001b[39;49m,\n\u001b[0;32m     16\u001b[0m         encoding\u001b[39m=\u001b[39;49m\u001b[39m\"\u001b[39;49m\u001b[39mutf_8\u001b[39;49m\u001b[39m\"\u001b[39;49m,\n\u001b[0;32m     17\u001b[0m     ))\n",
      "\u001b[1;31mTypeError\u001b[0m: write() argument must be str, not bytes"
     ]
    }
   ],
   "source": [
    "import metapub\n",
    "from urllib.request import urlretrieve\n",
    "import textract\n",
    "\n",
    "pmid = '28743949'\n",
    "\n",
    "url = metapub.FindIt(pmid).url\n",
    "\n",
    "urlretrieve(url, r\"C:\\Users\\ammar\\OneDrive\\Desktop\\phoenixbio\\Phoenix Bioinformatics\\any\")\n",
    "\n",
    "with open(r'C:\\Users\\ammar\\OneDrive\\Desktop\\phoenixbio\\Phoenix Bioinformatics/l', \"w\") as textfile:\n",
    "    textfile.write(textract.process(\n",
    "        r\"C:\\Users\\ammar\\OneDrive\\Desktop\\phoenixbio\\Phoenix Bioinformatics\\any\",\n",
    "        extension='pdf',\n",
    "        method='pdftotext',\n",
    "        encoding=\"utf_8\",\n",
    "    ))"
   ]
  }
 ],
 "metadata": {
  "kernelspec": {
   "display_name": "Python 3",
   "language": "python",
   "name": "python3"
  },
  "language_info": {
   "codemirror_mode": {
    "name": "ipython",
    "version": 3
   },
   "file_extension": ".py",
   "mimetype": "text/x-python",
   "name": "python",
   "nbconvert_exporter": "python",
   "pygments_lexer": "ipython3",
   "version": "3.11.0"
  },
  "orig_nbformat": 4,
  "vscode": {
   "interpreter": {
    "hash": "88515a233ee965f58ce35ee7453c560042d3db0c8b3b016874b62ac9aced7f11"
   }
  }
 },
 "nbformat": 4,
 "nbformat_minor": 2
}
